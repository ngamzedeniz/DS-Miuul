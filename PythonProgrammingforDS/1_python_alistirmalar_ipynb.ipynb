{
  "nbformat": 4,
  "nbformat_minor": 0,
  "metadata": {
    "colab": {
      "provenance": [],
      "authorship_tag": "ABX9TyM40WnpCmEQfaRzXPvLTNiG",
      "include_colab_link": true
    },
    "kernelspec": {
      "name": "python3",
      "display_name": "Python 3"
    },
    "language_info": {
      "name": "python"
    }
  },
  "cells": [
    {
      "cell_type": "markdown",
      "metadata": {
        "id": "view-in-github",
        "colab_type": "text"
      },
      "source": [
        "<a href=\"https://colab.research.google.com/github/ngamzedeniz/DS-Miuul/blob/main/1_python_alistirmalar_ipynb_adl%C4%B1_not_defterinin_kopyas%C4%B1.ipynb\" target=\"_parent\"><img src=\"https://colab.research.google.com/assets/colab-badge.svg\" alt=\"Open In Colab\"/></a>"
      ]
    },
    {
      "cell_type": "markdown",
      "source": [
        "Python Alıştırmalar"
      ],
      "metadata": {
        "id": "_sdKilTicK5W"
      }
    },
    {
      "cell_type": "code",
      "source": [
        "###############################################\n",
        "# GÖREV 2: Verilen string ifadenin tüm harflerini büyük harfe çeviriniz. Virgül ve nokta yerine space koyunuz, kelime kelime ayırınız.\n",
        "###############################################\n",
        "\n",
        "text = \"The goal is to turn data into information, and information into insight.\"\n",
        "\n",
        "text = text.replace(\".\",\"\")\n",
        "text = text.replace(\",\",\"\")\n",
        "text = text.upper()\n",
        "text = text.split()\n",
        "\n",
        "# text.upper().replace(\".\",\"\").replace(\",\",\"\").split()\n",
        "\n",
        "text"
      ],
      "metadata": {
        "colab": {
          "base_uri": "https://localhost:8080/"
        },
        "id": "loyJZrPPcN2O",
        "outputId": "d4cbdec4-11ba-4871-ac9f-34cc2d79b56a"
      },
      "execution_count": null,
      "outputs": [
        {
          "output_type": "execute_result",
          "data": {
            "text/plain": [
              "['THE',\n",
              " 'GOAL',\n",
              " 'IS',\n",
              " 'TO',\n",
              " 'TURN',\n",
              " 'DATA',\n",
              " 'INTO',\n",
              " 'INFORMATION',\n",
              " 'AND',\n",
              " 'INFORMATION',\n",
              " 'INTO',\n",
              " 'INSIGHT']"
            ]
          },
          "metadata": {},
          "execution_count": 3
        }
      ]
    },
    {
      "cell_type": "code",
      "source": [
        "###############################################\n",
        "# GÖREV 3: Verilen liste için aşağıdaki görevleri yapınız.\n",
        "###############################################\n",
        "\n",
        "lst = [\"D\",\"A\",\"T\",\"A\",\"S\",\"C\",\"I\",\"E\",\"N\",\"C\",\"E\"]\n",
        "\n",
        "# Adım 1: Verilen listenin eleman sayısına bakın.\n",
        "\n",
        "print(\"Adım 1\")\n",
        "\n",
        "eleman_sayisi = len(lst)\n",
        "print(\"Eleman Sayısı:\",eleman_sayisi)\n",
        "\n",
        "# Adım 2: Sıfırıncı ve onuncu index'teki elemanları çağırın.\n",
        "\n",
        "print(\"Adım 2\")\n",
        "\n",
        "print(\"0. indeks\",lst[0])\n",
        "print(\"10. indeks\",lst[10])\n",
        "\n",
        "# Adım 3: Verilen liste üzerinden [\"D\",\"A\",\"T\",\"A\"] listesi oluşturun.\n",
        "\n",
        "print(\"Adım 3\")\n",
        "\n",
        "print(lst[0:4])\n",
        "\n",
        "# Adım 4: Sekizinci index'teki elemanı silin.\n",
        "\n",
        "print(\"Adım 4\")\n",
        "\n",
        "#lst.pop(8)\n",
        "\n",
        "lst = lst[:7] + lst[9:]\n",
        "print(lst)\n",
        "\n",
        "# Adım 5: Yeni bir eleman ekleyin.\n",
        "\n",
        "print(\"Adım 5\")\n",
        "\n",
        "#lst.append(101)\n",
        "\n",
        "lst = lst[:] + [101]\n",
        "print(lst)\n",
        "\n",
        "# Adım 6: Sekizinci index'e  \"N\" elemanını tekrar ekleyin.\n",
        "\n",
        "print(\"Adım 6\")\n",
        "\n",
        "#lst.insert(8,\"N\") \n",
        "\n",
        "X = [\"N\"]\n",
        "lst = lst[:7] + X + lst[7:]\n",
        "print(lst)"
      ],
      "metadata": {
        "colab": {
          "base_uri": "https://localhost:8080/"
        },
        "id": "oKAXeY73eiUY",
        "outputId": "e50a4602-c4bb-4d10-ce6d-d3e219baf72e"
      },
      "execution_count": null,
      "outputs": [
        {
          "output_type": "stream",
          "name": "stdout",
          "text": [
            "Adım 1\n",
            "Eleman Sayısı: 11\n",
            "Adım 2\n",
            "0. indeks D\n",
            "10. indeks E\n",
            "Adım 3\n",
            "['D', 'A', 'T', 'A']\n",
            "Adım 4\n",
            "['D', 'A', 'T', 'A', 'S', 'C', 'I', 'C', 'E']\n",
            "Adım 5\n",
            "['D', 'A', 'T', 'A', 'S', 'C', 'I', 'C', 'E', 101]\n",
            "Adım 6\n",
            "['D', 'A', 'T', 'A', 'S', 'C', 'I', 'N', 'C', 'E', 101]\n"
          ]
        }
      ]
    },
    {
      "cell_type": "code",
      "source": [
        "###############################################\n",
        "# GÖREV 4: Verilen sözlük yapısına aşağıdaki adımları uygulayınız.\n",
        "###############################################\n",
        "\n",
        "dict = {'Christian': [\"America\",18],\n",
        "        'Daisy':[\"England\",12],\n",
        "        'Antonio':[\"Spain\",22],\n",
        "        'Dante':[\"Italy\",25]}\n",
        "\n",
        "\n",
        "# Adım 1: Key değerlerine erişiniz.\n",
        "print(\"Adım 1\")\n",
        "print(dict.keys())\n",
        "\n",
        "# Adım 2: Value'lara erişiniz.\n",
        "print(\"Adım 2\")\n",
        "print(dict.values())\n",
        "\n",
        "# Adım 3: Daisy key'ine ait 12 değerini 13 olarak güncelleyiniz.\n",
        "\n",
        "print(\"Adım 3\")\n",
        "dict.update({\"Daisy\":[dict[\"Daisy\"][0],13]})\n",
        "print(dict)\n",
        "# Adım 4: Key değeri Ahmet value değeri [Turkey,24] olan yeni bir değer ekleyiniz.\n",
        "\n",
        "print(\"Adım 4\")\n",
        "dict.update({\"Ahmet\":[\"Turkey\",24]})\n",
        "print(dict)\n",
        "\n",
        "# Adım 5: Antonio'yu dictionary'den siliniz.\n",
        "print(\"Adım 5\")\n",
        "del dict['Antonio']\n",
        "print(dict)"
      ],
      "metadata": {
        "colab": {
          "base_uri": "https://localhost:8080/"
        },
        "id": "ZqRDMlVshdLH",
        "outputId": "26b2a91b-e1bc-421c-f768-40d24581d41e"
      },
      "execution_count": null,
      "outputs": [
        {
          "output_type": "stream",
          "name": "stdout",
          "text": [
            "Adım 1\n",
            "dict_keys(['Christian', 'Daisy', 'Antonio', 'Dante'])\n",
            "Adım 2\n",
            "dict_values([['America', 18], ['England', 12], ['Spain', 22], ['Italy', 25]])\n",
            "Adım 3\n",
            "{'Christian': ['America', 18], 'Daisy': ['England', 13], 'Antonio': ['Spain', 22], 'Dante': ['Italy', 25]}\n",
            "Adım 4\n",
            "{'Christian': ['America', 18], 'Daisy': ['England', 13], 'Antonio': ['Spain', 22], 'Dante': ['Italy', 25], 'Ahmet': ['Turkey', 24]}\n",
            "Adım 5\n",
            "{'Christian': ['America', 18], 'Daisy': ['England', 13], 'Dante': ['Italy', 25], 'Ahmet': ['Turkey', 24]}\n"
          ]
        }
      ]
    },
    {
      "cell_type": "code",
      "source": [
        "###############################################\n",
        "# GÖREV 5: Arguman olarak bir liste alan, listenin içerisindeki tek ve çift sayıları ayrı listelere atıyan ve bu listeleri return eden fonskiyon yazınız.\n",
        "###############################################\n",
        "\n",
        "l = [2,13,18,93,22]\n",
        "tek = []\n",
        "cift = []\n",
        "\n",
        "for s in l:\n",
        "    if s %2 == 0:\n",
        "      cift.append(s)\n",
        "    else:\n",
        "      tek.append(s)\n",
        "    \n",
        "  "
      ],
      "metadata": {
        "id": "V7ipuLNg5D6E"
      },
      "execution_count": null,
      "outputs": []
    },
    {
      "cell_type": "code",
      "source": [
        "print(tek)\n",
        "print(cift)"
      ],
      "metadata": {
        "colab": {
          "base_uri": "https://localhost:8080/"
        },
        "id": "xNVTXEFr6ZL0",
        "outputId": "96229665-2daf-4fdc-f33f-fbd0cdb65ff0"
      },
      "execution_count": null,
      "outputs": [
        {
          "output_type": "stream",
          "name": "stdout",
          "text": [
            "[13, 93]\n",
            "[2, 18, 22]\n"
          ]
        }
      ]
    },
    {
      "cell_type": "code",
      "source": [
        "###############################################\n",
        "# GÖREV 6: Aşağıda verilen listede mühendislik ve tıp fakülterinde dereceye giren öğrencilerin isimleri bulunmaktadır.\n",
        "# Sırasıyla ilk üç öğrenci mühendislik fakültesinin başarı sırasını temsil ederken son üç öğrenci de tıp fakültesi öğrenci sırasına aittir.\n",
        "# Enumarate kullanarak öğrenci derecelerini fakülte özelinde yazdırınız.\n",
        "###############################################\n",
        "\n",
        "ogrenciler = [\"Ali\",\"Veli\",\"Ayşe\",\"Talat\",\"Zeynep\",\"Ece\"]\n",
        "muhendis =[]\n",
        "tip = []\n",
        "for i,s in enumerate(ogrenciler):\n",
        "  if i < 3:\n",
        "    muhendis.append(s)\n",
        "  else:\n",
        "    tip.append(s)\n",
        "\n",
        "\n",
        "  \n"
      ],
      "metadata": {
        "id": "9orRkeN96fAc"
      },
      "execution_count": null,
      "outputs": []
    },
    {
      "cell_type": "code",
      "source": [
        "print(tip)\n",
        "print(muhendis)"
      ],
      "metadata": {
        "colab": {
          "base_uri": "https://localhost:8080/"
        },
        "id": "hkXA3jfs6gRE",
        "outputId": "e0b01cac-7d71-4826-9f07-a29a785f8dc4"
      },
      "execution_count": null,
      "outputs": [
        {
          "output_type": "stream",
          "name": "stdout",
          "text": [
            "['Talat', 'Zeynep', 'Ece']\n",
            "['Ali', 'Veli', 'Ayşe']\n"
          ]
        }
      ]
    },
    {
      "cell_type": "code",
      "source": [
        "###############################################\n",
        "# GÖREV 7: Aşağıda 3 adet liste verilmiştir. Listelerde sırası ile bir dersin kodu, kredisi ve kontenjan bilgileri yer almaktadır. Zip kullanarak ders bilgilerini bastırınız.\n",
        "###############################################\n",
        "\n",
        "ders_kodu = [\"CMP1005\",\"PSY1001\",\"HUK1005\",\"SEN2204\"]\n",
        "kredi = [3,4,2,4]\n",
        "kontenjan = [30,75,150,25]\n",
        "\n",
        "ders_bilgileri = zip(ders_kodu, kredi, kontenjan)\n",
        "print(tuple(ders_bilgileri))\n"
      ],
      "metadata": {
        "colab": {
          "base_uri": "https://localhost:8080/"
        },
        "id": "AmnldBezU2JS",
        "outputId": "2f69f463-d207-4d1c-c842-ce55f55ad0a4"
      },
      "execution_count": null,
      "outputs": [
        {
          "output_type": "stream",
          "name": "stdout",
          "text": [
            "(('CMP1005', 3, 30), ('PSY1001', 4, 75), ('HUK1005', 2, 150), ('SEN2204', 4, 25))\n"
          ]
        }
      ]
    },
    {
      "cell_type": "code",
      "source": [
        "###############################################\n",
        "# GÖREV 8: Aşağıda 2 adet set verilmiştir.\n",
        "# Sizden istenilen eğer 1. küme 2. kümeyi kapsiyor ise ortak elemanlarını, eğer kapsamıyor ise 2. kümenin 1. kümeden farkını yazdıracak fonksiyonu tanımlamanız beklenmektedir.\n",
        "###############################################\n",
        "\n",
        "kume1 = set([\"data\", \"python\"])\n",
        "kume2 = set([\"data\", \"function\", \"qcut\", \"lambda\", \"python\", \"miuul\"])\n",
        "\n",
        "\n",
        "if kume1.isdisjoint(kume2) == True:\n",
        "  print(kume1.intersection(kume2))\n",
        "else:\n",
        "  print(kume2.difference(kume1))\n",
        "\n",
        "\n",
        "\n",
        "\n",
        "\n",
        "\n"
      ],
      "metadata": {
        "colab": {
          "base_uri": "https://localhost:8080/"
        },
        "id": "UwB0m1QOXS5d",
        "outputId": "a0e8302e-128b-44a3-d40c-8be96c7a73f7"
      },
      "execution_count": null,
      "outputs": [
        {
          "output_type": "stream",
          "name": "stdout",
          "text": [
            "{'miuul', 'qcut', 'function', 'lambda'}\n"
          ]
        }
      ]
    }
  ]
}
