{
  "nbformat": 4,
  "nbformat_minor": 0,
  "metadata": {
    "colab": {
      "provenance": [],
      "authorship_tag": "ABX9TyPEFI2jGC+l53G4AL/tsJ2L",
      "include_colab_link": true
    },
    "kernelspec": {
      "name": "python3",
      "display_name": "Python 3"
    },
    "language_info": {
      "name": "python"
    }
  },
  "cells": [
    {
      "cell_type": "markdown",
      "metadata": {
        "id": "view-in-github",
        "colab_type": "text"
      },
      "source": [
        "<a href=\"https://colab.research.google.com/github/ngamzedeniz/Veri-Bilimi-Okulu/blob/main/2_List_Comprehension_Al%C4%B1%C5%9Ft%C4%B1rmalar.ipynb\" target=\"_parent\"><img src=\"https://colab.research.google.com/assets/colab-badge.svg\" alt=\"Open In Colab\"/></a>"
      ]
    },
    {
      "cell_type": "code",
      "execution_count": 1,
      "metadata": {
        "colab": {
          "base_uri": "https://localhost:8080/"
        },
        "id": "Om0avNdJGIBG",
        "outputId": "b78dcdb6-9c24-4a18-8756-f682457464a6"
      },
      "outputs": [
        {
          "output_type": "execute_result",
          "data": {
            "text/plain": [
              "['NUM_TOTAL',\n",
              " 'NUM_SPEEDING',\n",
              " 'NUM_ALCOHOL',\n",
              " 'NUM_NOT_DISTRACTED',\n",
              " 'NUM_NO_PREVIOUS',\n",
              " 'NUM_INS_PREMIUM',\n",
              " 'NUM_INS_LOSSES',\n",
              " 'ABBREV']"
            ]
          },
          "metadata": {},
          "execution_count": 1
        }
      ],
      "source": [
        "##################################################\n",
        "# List Comprehensions\n",
        "##################################################\n",
        "\n",
        "# ###############################################\n",
        "# # GÖREV 1: List Comprehension yapısı kullanarak car_crashes verisindeki numeric değişkenlerin isimlerini büyük harfe çeviriniz ve başına NUM ekleyiniz.\n",
        "# ###############################################\n",
        "#\n",
        "# # Beklenen Çıktı\n",
        "#\n",
        "# # ['NUM_TOTAL',\n",
        "# #  'NUM_SPEEDING',\n",
        "# #  'NUM_ALCOHOL',\n",
        "# #  'NUM_NOT_DISTRACTED',\n",
        "# #  'NUM_NO_PREVIOUS',\n",
        "# #  'NUM_INS_PREMIUM',\n",
        "# #  'NUM_INS_LOSSES',\n",
        "# #  'ABBREV']\n",
        "#\n",
        "# # Notlar:\n",
        "# # Numerik olmayanların da isimleri büyümeli.\n",
        "# # Tek bir list comp yapısı ile yapılmalı.\n",
        "\n",
        "\n",
        "import seaborn as sns\n",
        "import pandas as pd\n",
        "pd.set_option('display.max_rows', None)\n",
        "pd.set_option('display.max_columns', None)\n",
        "pd.set_option('display.width', 500)\n",
        "\n",
        "df = sns.load_dataset(\"car_crashes\")\n",
        "\n",
        "[\"NUM_\"+col.upper() if df[col].dtype != \"O\" else col.upper() for col in df.columns]\n",
        "\n",
        "\n"
      ]
    },
    {
      "cell_type": "code",
      "source": [
        "# ###############################################\n",
        "# # GÖREV 2: List Comprehension yapısı kullanarak car_crashes verisindeki isminde \"no\" barındırmayan değişkenlerin isimlerininin sonuna \"FLAG\" yazınız.\n",
        "# ###############################################\n",
        "#\n",
        "# # Notlar:\n",
        "# # Tüm değişken isimleri büyük olmalı.\n",
        "# # Tek bir list comp ile yapılmalı.\n",
        "#\n",
        "# # Beklenen çıktı:\n",
        "#\n",
        "# # ['TOTAL_FLAG',\n",
        "# #  'SPEEDING_FLAG',\n",
        "# #  'ALCOHOL_FLAG',\n",
        "# #  'NOT_DISTRACTED',\n",
        "# #  'NO_PREVIOUS',\n",
        "# #  'INS_PREMIUM_FLAG',\n",
        "# #  'INS_LOSSES_FLAG',\n",
        "# #  'ABBREV_FLAG']\n",
        "\n",
        "\n",
        "[col.upper() + \"_FLAG\" if \"no\" not in col else col.upper() for col in df.columns]\n",
        "\n"
      ],
      "metadata": {
        "colab": {
          "base_uri": "https://localhost:8080/"
        },
        "id": "JhzuSOUYSrTN",
        "outputId": "67dde873-90f6-466a-8204-643f2d94afd5"
      },
      "execution_count": 2,
      "outputs": [
        {
          "output_type": "execute_result",
          "data": {
            "text/plain": [
              "['TOTAL_FLAG',\n",
              " 'SPEEDING_FLAG',\n",
              " 'ALCOHOL_FLAG',\n",
              " 'NOT_DISTRACTED',\n",
              " 'NO_PREVIOUS',\n",
              " 'INS_PREMIUM_FLAG',\n",
              " 'INS_LOSSES_FLAG',\n",
              " 'ABBREV_FLAG']"
            ]
          },
          "metadata": {},
          "execution_count": 2
        }
      ]
    },
    {
      "cell_type": "code",
      "source": [
        "# ###############################################\n",
        "# # Görev 3: List Comprehension yapısı kullanarak aşağıda verilen değişken isimlerinden FARKLI olan değişkenlerin isimlerini seçiniz ve yeni bir dataframe oluşturunuz.\n",
        "# ###############################################\n",
        "\n",
        "og_list = [\"abbrev\", \"no_previous\"]\n",
        "\n",
        "# # Notlar:\n",
        "# # Önce yukarıdaki listeye göre list comprehension kullanarak new_cols adında yeni liste oluşturunuz.\n",
        "# # Sonra df[new_cols] ile bu değişkenleri seçerek yeni bir df oluşturunuz adını new_df olarak isimlendiriniz.\n",
        "#\n",
        "# # Beklenen çıktı:\n",
        "#\n",
        "# #    total  speeding  alcohol  not_distracted  ins_premium  ins_losses\n",
        "# # 0 18.800     7.332    5.640          18.048      784.550     145.080\n",
        "# # 1 18.100     7.421    4.525          16.290     1053.480     133.930\n",
        "# # 2 18.600     6.510    5.208          15.624      899.470     110.350\n",
        "# # 3 22.400     4.032    5.824          21.056      827.340     142.390\n",
        "# # 4 12.000     4.200    3.360          10.920      878.410     165.630\n",
        "#\n",
        "\n",
        "new_cols= [item for item in df.columns if item not in og_list]\n",
        "new_cols"
      ],
      "metadata": {
        "colab": {
          "base_uri": "https://localhost:8080/"
        },
        "id": "xKk3mcZaStWZ",
        "outputId": "b54412d8-f76b-423b-b459-ac0960b7e459"
      },
      "execution_count": 3,
      "outputs": [
        {
          "output_type": "execute_result",
          "data": {
            "text/plain": [
              "['total', 'speeding', 'alcohol', 'not_distracted', 'ins_premium', 'ins_losses']"
            ]
          },
          "metadata": {},
          "execution_count": 3
        }
      ]
    },
    {
      "cell_type": "code",
      "source": [
        "new_df = df[new_cols]\n",
        "new_df.head()"
      ],
      "metadata": {
        "colab": {
          "base_uri": "https://localhost:8080/",
          "height": 206
        },
        "id": "lY4OkfegosDQ",
        "outputId": "4b36ebc3-7ff1-493d-f9f5-76a78072c3df"
      },
      "execution_count": 5,
      "outputs": [
        {
          "output_type": "execute_result",
          "data": {
            "text/plain": [
              "   total  speeding  alcohol  not_distracted  ins_premium  ins_losses\n",
              "0   18.8     7.332    5.640          18.048       784.55      145.08\n",
              "1   18.1     7.421    4.525          16.290      1053.48      133.93\n",
              "2   18.6     6.510    5.208          15.624       899.47      110.35\n",
              "3   22.4     4.032    5.824          21.056       827.34      142.39\n",
              "4   12.0     4.200    3.360          10.920       878.41      165.63"
            ],
            "text/html": [
              "\n",
              "  <div id=\"df-d58db7df-5034-475e-8a53-79213d0189f4\">\n",
              "    <div class=\"colab-df-container\">\n",
              "      <div>\n",
              "<style scoped>\n",
              "    .dataframe tbody tr th:only-of-type {\n",
              "        vertical-align: middle;\n",
              "    }\n",
              "\n",
              "    .dataframe tbody tr th {\n",
              "        vertical-align: top;\n",
              "    }\n",
              "\n",
              "    .dataframe thead th {\n",
              "        text-align: right;\n",
              "    }\n",
              "</style>\n",
              "<table border=\"1\" class=\"dataframe\">\n",
              "  <thead>\n",
              "    <tr style=\"text-align: right;\">\n",
              "      <th></th>\n",
              "      <th>total</th>\n",
              "      <th>speeding</th>\n",
              "      <th>alcohol</th>\n",
              "      <th>not_distracted</th>\n",
              "      <th>ins_premium</th>\n",
              "      <th>ins_losses</th>\n",
              "    </tr>\n",
              "  </thead>\n",
              "  <tbody>\n",
              "    <tr>\n",
              "      <th>0</th>\n",
              "      <td>18.8</td>\n",
              "      <td>7.332</td>\n",
              "      <td>5.640</td>\n",
              "      <td>18.048</td>\n",
              "      <td>784.55</td>\n",
              "      <td>145.08</td>\n",
              "    </tr>\n",
              "    <tr>\n",
              "      <th>1</th>\n",
              "      <td>18.1</td>\n",
              "      <td>7.421</td>\n",
              "      <td>4.525</td>\n",
              "      <td>16.290</td>\n",
              "      <td>1053.48</td>\n",
              "      <td>133.93</td>\n",
              "    </tr>\n",
              "    <tr>\n",
              "      <th>2</th>\n",
              "      <td>18.6</td>\n",
              "      <td>6.510</td>\n",
              "      <td>5.208</td>\n",
              "      <td>15.624</td>\n",
              "      <td>899.47</td>\n",
              "      <td>110.35</td>\n",
              "    </tr>\n",
              "    <tr>\n",
              "      <th>3</th>\n",
              "      <td>22.4</td>\n",
              "      <td>4.032</td>\n",
              "      <td>5.824</td>\n",
              "      <td>21.056</td>\n",
              "      <td>827.34</td>\n",
              "      <td>142.39</td>\n",
              "    </tr>\n",
              "    <tr>\n",
              "      <th>4</th>\n",
              "      <td>12.0</td>\n",
              "      <td>4.200</td>\n",
              "      <td>3.360</td>\n",
              "      <td>10.920</td>\n",
              "      <td>878.41</td>\n",
              "      <td>165.63</td>\n",
              "    </tr>\n",
              "  </tbody>\n",
              "</table>\n",
              "</div>\n",
              "      <button class=\"colab-df-convert\" onclick=\"convertToInteractive('df-d58db7df-5034-475e-8a53-79213d0189f4')\"\n",
              "              title=\"Convert this dataframe to an interactive table.\"\n",
              "              style=\"display:none;\">\n",
              "        \n",
              "  <svg xmlns=\"http://www.w3.org/2000/svg\" height=\"24px\"viewBox=\"0 0 24 24\"\n",
              "       width=\"24px\">\n",
              "    <path d=\"M0 0h24v24H0V0z\" fill=\"none\"/>\n",
              "    <path d=\"M18.56 5.44l.94 2.06.94-2.06 2.06-.94-2.06-.94-.94-2.06-.94 2.06-2.06.94zm-11 1L8.5 8.5l.94-2.06 2.06-.94-2.06-.94L8.5 2.5l-.94 2.06-2.06.94zm10 10l.94 2.06.94-2.06 2.06-.94-2.06-.94-.94-2.06-.94 2.06-2.06.94z\"/><path d=\"M17.41 7.96l-1.37-1.37c-.4-.4-.92-.59-1.43-.59-.52 0-1.04.2-1.43.59L10.3 9.45l-7.72 7.72c-.78.78-.78 2.05 0 2.83L4 21.41c.39.39.9.59 1.41.59.51 0 1.02-.2 1.41-.59l7.78-7.78 2.81-2.81c.8-.78.8-2.07 0-2.86zM5.41 20L4 18.59l7.72-7.72 1.47 1.35L5.41 20z\"/>\n",
              "  </svg>\n",
              "      </button>\n",
              "      \n",
              "  <style>\n",
              "    .colab-df-container {\n",
              "      display:flex;\n",
              "      flex-wrap:wrap;\n",
              "      gap: 12px;\n",
              "    }\n",
              "\n",
              "    .colab-df-convert {\n",
              "      background-color: #E8F0FE;\n",
              "      border: none;\n",
              "      border-radius: 50%;\n",
              "      cursor: pointer;\n",
              "      display: none;\n",
              "      fill: #1967D2;\n",
              "      height: 32px;\n",
              "      padding: 0 0 0 0;\n",
              "      width: 32px;\n",
              "    }\n",
              "\n",
              "    .colab-df-convert:hover {\n",
              "      background-color: #E2EBFA;\n",
              "      box-shadow: 0px 1px 2px rgba(60, 64, 67, 0.3), 0px 1px 3px 1px rgba(60, 64, 67, 0.15);\n",
              "      fill: #174EA6;\n",
              "    }\n",
              "\n",
              "    [theme=dark] .colab-df-convert {\n",
              "      background-color: #3B4455;\n",
              "      fill: #D2E3FC;\n",
              "    }\n",
              "\n",
              "    [theme=dark] .colab-df-convert:hover {\n",
              "      background-color: #434B5C;\n",
              "      box-shadow: 0px 1px 3px 1px rgba(0, 0, 0, 0.15);\n",
              "      filter: drop-shadow(0px 1px 2px rgba(0, 0, 0, 0.3));\n",
              "      fill: #FFFFFF;\n",
              "    }\n",
              "  </style>\n",
              "\n",
              "      <script>\n",
              "        const buttonEl =\n",
              "          document.querySelector('#df-d58db7df-5034-475e-8a53-79213d0189f4 button.colab-df-convert');\n",
              "        buttonEl.style.display =\n",
              "          google.colab.kernel.accessAllowed ? 'block' : 'none';\n",
              "\n",
              "        async function convertToInteractive(key) {\n",
              "          const element = document.querySelector('#df-d58db7df-5034-475e-8a53-79213d0189f4');\n",
              "          const dataTable =\n",
              "            await google.colab.kernel.invokeFunction('convertToInteractive',\n",
              "                                                     [key], {});\n",
              "          if (!dataTable) return;\n",
              "\n",
              "          const docLinkHtml = 'Like what you see? Visit the ' +\n",
              "            '<a target=\"_blank\" href=https://colab.research.google.com/notebooks/data_table.ipynb>data table notebook</a>'\n",
              "            + ' to learn more about interactive tables.';\n",
              "          element.innerHTML = '';\n",
              "          dataTable['output_type'] = 'display_data';\n",
              "          await google.colab.output.renderOutput(dataTable, element);\n",
              "          const docLink = document.createElement('div');\n",
              "          docLink.innerHTML = docLinkHtml;\n",
              "          element.appendChild(docLink);\n",
              "        }\n",
              "      </script>\n",
              "    </div>\n",
              "  </div>\n",
              "  "
            ]
          },
          "metadata": {},
          "execution_count": 5
        }
      ]
    }
  ]
}
