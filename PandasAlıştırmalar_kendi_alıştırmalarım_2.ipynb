{
  "nbformat": 4,
  "nbformat_minor": 0,
  "metadata": {
    "colab": {
      "provenance": [],
      "collapsed_sections": [
        "c4Nz0kw2mHu2",
        "vr-sneQ9mziG",
        "n2DTPNSRpC_l"
      ],
      "authorship_tag": "ABX9TyOlzIc6UJP8lSdLE+AMRwKD",
      "include_colab_link": true
    },
    "kernelspec": {
      "name": "python3",
      "display_name": "Python 3"
    },
    "language_info": {
      "name": "python"
    }
  },
  "cells": [
    {
      "cell_type": "markdown",
      "metadata": {
        "id": "view-in-github",
        "colab_type": "text"
      },
      "source": [
        "<a href=\"https://colab.research.google.com/github/ngamzedeniz/DS-Miuul/blob/main/PandasAl%C4%B1%C5%9Ft%C4%B1rmalar_kendi_al%C4%B1%C5%9Ft%C4%B1rmalar%C4%B1m_2.ipynb\" target=\"_parent\"><img src=\"https://colab.research.google.com/assets/colab-badge.svg\" alt=\"Open In Colab\"/></a>"
      ]
    },
    {
      "cell_type": "code",
      "execution_count": null,
      "metadata": {
        "id": "_eXSW2sypSs9"
      },
      "outputs": [],
      "source": [
        "import numpy as np"
      ]
    },
    {
      "cell_type": "code",
      "source": [
        "a = np.linspace(1,4, num=4)\n",
        "b = np.linspace(2,5, num=4)\n"
      ],
      "metadata": {
        "id": "7OmfCXEkg-zo"
      },
      "execution_count": null,
      "outputs": []
    },
    {
      "cell_type": "code",
      "source": [
        "a*b"
      ],
      "metadata": {
        "colab": {
          "base_uri": "https://localhost:8080/"
        },
        "id": "YVdBPyfahlar",
        "outputId": "a58ca422-a6c2-4c5e-9ca0-c5eb24ea1efe"
      },
      "execution_count": null,
      "outputs": [
        {
          "output_type": "execute_result",
          "data": {
            "text/plain": [
              "array([ 2.,  6., 12., 20.])"
            ]
          },
          "metadata": {},
          "execution_count": 7
        }
      ]
    },
    {
      "cell_type": "code",
      "source": [
        "#creating numpy arrays\n",
        "c = np.array([1, 2, 3, 4])\n",
        "d = np.array([2, 3, 4, 5])\n",
        "c * d\n",
        "#type(d)"
      ],
      "metadata": {
        "colab": {
          "base_uri": "https://localhost:8080/"
        },
        "id": "d7u8SHW4iLi6",
        "outputId": "3c211564-2793-45c7-a265-6000713a23d4"
      },
      "execution_count": null,
      "outputs": [
        {
          "output_type": "execute_result",
          "data": {
            "text/plain": [
              "array([ 2,  6, 12, 20])"
            ]
          },
          "metadata": {},
          "execution_count": 10
        }
      ]
    },
    {
      "cell_type": "code",
      "source": [
        "np.zeros(10, dtype=int)\n"
      ],
      "metadata": {
        "colab": {
          "base_uri": "https://localhost:8080/"
        },
        "id": "xF3q6-6Qip26",
        "outputId": "81713d9e-69f6-4bdc-9044-5f76b6571e9e"
      },
      "execution_count": null,
      "outputs": [
        {
          "output_type": "execute_result",
          "data": {
            "text/plain": [
              "array([0, 0, 0, 0, 0, 0, 0, 0, 0, 0])"
            ]
          },
          "metadata": {},
          "execution_count": 11
        }
      ]
    },
    {
      "cell_type": "code",
      "source": [
        "np.random.randint(0, 10, size = 20)"
      ],
      "metadata": {
        "colab": {
          "base_uri": "https://localhost:8080/"
        },
        "id": "zajf_CbbjU5K",
        "outputId": "3132987d-f1c1-413c-d2bb-318023e64ea1"
      },
      "execution_count": null,
      "outputs": [
        {
          "output_type": "execute_result",
          "data": {
            "text/plain": [
              "array([0, 9, 7, 9, 0, 7, 8, 4, 0, 0, 1, 3, 7, 7, 6, 3, 5, 7, 1, 1])"
            ]
          },
          "metadata": {},
          "execution_count": 12
        }
      ]
    },
    {
      "cell_type": "code",
      "source": [
        "np.random.normal(5, 5, (4,3))"
      ],
      "metadata": {
        "colab": {
          "base_uri": "https://localhost:8080/"
        },
        "id": "o_sKn3Cyjm2t",
        "outputId": "a31b1d56-b89b-48fb-f18c-03f34ba42f59"
      },
      "execution_count": null,
      "outputs": [
        {
          "output_type": "execute_result",
          "data": {
            "text/plain": [
              "array([[-2.03678582,  8.9043018 ,  8.41344722],\n",
              "       [-3.44455341, -0.48931884,  0.58069381],\n",
              "       [ 4.61354536,  8.43169534,  4.03479867],\n",
              "       [-4.92088726,  8.4066947 ,  1.5963148 ]])"
            ]
          },
          "metadata": {},
          "execution_count": 16
        }
      ]
    },
    {
      "cell_type": "code",
      "source": [
        "# ndim: boyut sayısı\n",
        "# shape: boyut bilgisi\n",
        "# size: toplam eleman sayısı\n",
        "# dtype: array veri tipi\n"
      ],
      "metadata": {
        "id": "Z5FMA5wDkcfS"
      },
      "execution_count": null,
      "outputs": []
    },
    {
      "cell_type": "code",
      "source": [
        "#takes 0 as initial default number\n",
        "x = np.random.randint(10, size = 5)\n",
        "x"
      ],
      "metadata": {
        "colab": {
          "base_uri": "https://localhost:8080/"
        },
        "id": "Gzw_Q_2LlJaI",
        "outputId": "ba9f9f12-0398-47d5-ffba-0c2f07b7ffe7"
      },
      "execution_count": null,
      "outputs": [
        {
          "output_type": "execute_result",
          "data": {
            "text/plain": [
              "array([8, 1, 2, 8, 7])"
            ]
          },
          "metadata": {},
          "execution_count": 21
        }
      ]
    },
    {
      "cell_type": "code",
      "source": [
        "#boyut sayısı\n",
        "x.ndim"
      ],
      "metadata": {
        "colab": {
          "base_uri": "https://localhost:8080/"
        },
        "id": "OjTUoWA_lXb6",
        "outputId": "419e8f19-86e0-4d08-915a-442abb582701"
      },
      "execution_count": null,
      "outputs": [
        {
          "output_type": "execute_result",
          "data": {
            "text/plain": [
              "1"
            ]
          },
          "metadata": {},
          "execution_count": 23
        }
      ]
    },
    {
      "cell_type": "code",
      "source": [
        "#her boyuttaki eleman sayısı\n",
        "x.shape"
      ],
      "metadata": {
        "colab": {
          "base_uri": "https://localhost:8080/"
        },
        "id": "sX4fz-tOla9N",
        "outputId": "84ed12a0-1529-4edb-ba0b-fd9ff16c7ce2"
      },
      "execution_count": null,
      "outputs": [
        {
          "output_type": "execute_result",
          "data": {
            "text/plain": [
              "(5,)"
            ]
          },
          "metadata": {},
          "execution_count": 22
        }
      ]
    },
    {
      "cell_type": "code",
      "source": [
        "#toplam eleman sayısı\n",
        "x.size\n"
      ],
      "metadata": {
        "colab": {
          "base_uri": "https://localhost:8080/"
        },
        "id": "8KdabydDljTp",
        "outputId": "282e3397-3710-4d9d-b54f-1d3351dae6f9"
      },
      "execution_count": null,
      "outputs": [
        {
          "output_type": "execute_result",
          "data": {
            "text/plain": [
              "5"
            ]
          },
          "metadata": {},
          "execution_count": 24
        }
      ]
    },
    {
      "cell_type": "code",
      "source": [
        "x.dtype"
      ],
      "metadata": {
        "colab": {
          "base_uri": "https://localhost:8080/"
        },
        "id": "L4DQWGwKl7ug",
        "outputId": "3c6cb460-07da-4961-8a08-984653c2e1c4"
      },
      "execution_count": null,
      "outputs": [
        {
          "output_type": "execute_result",
          "data": {
            "text/plain": [
              "dtype('int64')"
            ]
          },
          "metadata": {},
          "execution_count": 25
        }
      ]
    },
    {
      "cell_type": "markdown",
      "source": [
        "# **`RESHAPING`** "
      ],
      "metadata": {
        "id": "c4Nz0kw2mHu2"
      }
    },
    {
      "cell_type": "code",
      "source": [
        "y = np.random.randint(8, size = 10)"
      ],
      "metadata": {
        "id": "3OQ2asqFmWU-"
      },
      "execution_count": null,
      "outputs": []
    },
    {
      "cell_type": "code",
      "source": [
        "y.reshape(5,2)"
      ],
      "metadata": {
        "colab": {
          "base_uri": "https://localhost:8080/"
        },
        "id": "7w1wXMxzmdFo",
        "outputId": "af0dfe52-4ce7-40a4-fe45-ae04ee87d502"
      },
      "execution_count": null,
      "outputs": [
        {
          "output_type": "execute_result",
          "data": {
            "text/plain": [
              "array([[4, 6],\n",
              "       [4, 6],\n",
              "       [2, 2],\n",
              "       [5, 4],\n",
              "       [7, 7]])"
            ]
          },
          "metadata": {},
          "execution_count": 29
        }
      ]
    },
    {
      "cell_type": "markdown",
      "source": [
        "# **INDEX SEÇİMİ**"
      ],
      "metadata": {
        "id": "vr-sneQ9mziG"
      }
    },
    {
      "cell_type": "code",
      "source": [
        "z = np.random.randint(10, size = 10)\n",
        "\n"
      ],
      "metadata": {
        "id": "UwuRUtNCmmwQ"
      },
      "execution_count": null,
      "outputs": []
    },
    {
      "cell_type": "code",
      "source": [
        "z"
      ],
      "metadata": {
        "colab": {
          "base_uri": "https://localhost:8080/"
        },
        "id": "TTbz_go9nWUo",
        "outputId": "8a3ff3b1-1fd9-403e-dcff-c604fd73c5ad"
      },
      "execution_count": null,
      "outputs": [
        {
          "output_type": "execute_result",
          "data": {
            "text/plain": [
              "array([4, 2, 6, 5, 1, 5, 4, 1, 2, 8])"
            ]
          },
          "metadata": {},
          "execution_count": 31
        }
      ]
    },
    {
      "cell_type": "code",
      "source": [
        "z[0]"
      ],
      "metadata": {
        "colab": {
          "base_uri": "https://localhost:8080/"
        },
        "id": "zoF-v9ftnZ8L",
        "outputId": "3609b0d5-9c5f-45c6-e43d-d4e75275401e"
      },
      "execution_count": null,
      "outputs": [
        {
          "output_type": "execute_result",
          "data": {
            "text/plain": [
              "4"
            ]
          },
          "metadata": {},
          "execution_count": 32
        }
      ]
    },
    {
      "cell_type": "code",
      "source": [
        "z[0:5]"
      ],
      "metadata": {
        "colab": {
          "base_uri": "https://localhost:8080/"
        },
        "id": "hi6PmIXAncz0",
        "outputId": "abe9c259-41be-4f23-c050-8226414b9bf2"
      },
      "execution_count": null,
      "outputs": [
        {
          "output_type": "execute_result",
          "data": {
            "text/plain": [
              "array([3, 1, 3, 7, 7])"
            ]
          },
          "metadata": {},
          "execution_count": 34
        }
      ]
    },
    {
      "cell_type": "code",
      "source": [
        "z[2] = 555"
      ],
      "metadata": {
        "id": "w6y2p0m7nj73"
      },
      "execution_count": null,
      "outputs": []
    },
    {
      "cell_type": "code",
      "source": [
        "z"
      ],
      "metadata": {
        "colab": {
          "base_uri": "https://localhost:8080/"
        },
        "id": "03J36bc0nwF_",
        "outputId": "3c03d230-157e-4a78-8f96-dac6cbb746a9"
      },
      "execution_count": null,
      "outputs": [
        {
          "output_type": "execute_result",
          "data": {
            "text/plain": [
              "array([  3,   1, 555,   7,   7,   5,   8,   2,   9,   3])"
            ]
          },
          "metadata": {},
          "execution_count": 36
        }
      ]
    },
    {
      "cell_type": "code",
      "source": [
        "v = np.random.randint(10, size = (3,5))\n",
        "v"
      ],
      "metadata": {
        "colab": {
          "base_uri": "https://localhost:8080/"
        },
        "id": "VxyDG9W3nxUb",
        "outputId": "f3b6d097-2850-490a-bdc8-89c6cf002d24"
      },
      "execution_count": null,
      "outputs": [
        {
          "output_type": "execute_result",
          "data": {
            "text/plain": [
              "array([[6, 6, 4, 2, 9],\n",
              "       [8, 3, 1, 4, 1],\n",
              "       [3, 1, 0, 3, 1]])"
            ]
          },
          "metadata": {},
          "execution_count": 38
        }
      ]
    },
    {
      "cell_type": "code",
      "source": [
        "v[0,0]"
      ],
      "metadata": {
        "colab": {
          "base_uri": "https://localhost:8080/"
        },
        "id": "fTD0UFpQoBIC",
        "outputId": "b49ccd6d-d557-4769-8ff8-94d9ba43270f"
      },
      "execution_count": null,
      "outputs": [
        {
          "output_type": "execute_result",
          "data": {
            "text/plain": [
              "6"
            ]
          },
          "metadata": {},
          "execution_count": 39
        }
      ]
    },
    {
      "cell_type": "code",
      "source": [
        "v[1,:]"
      ],
      "metadata": {
        "colab": {
          "base_uri": "https://localhost:8080/"
        },
        "id": "qL7r7Q1qoKKa",
        "outputId": "0d21bfb1-be5e-4aa6-ec8d-0f3436f84705"
      },
      "execution_count": null,
      "outputs": [
        {
          "output_type": "execute_result",
          "data": {
            "text/plain": [
              "array([8, 3, 1, 4, 1])"
            ]
          },
          "metadata": {},
          "execution_count": 40
        }
      ]
    },
    {
      "cell_type": "code",
      "source": [
        "v[0:2, 0:2]"
      ],
      "metadata": {
        "colab": {
          "base_uri": "https://localhost:8080/"
        },
        "id": "6b1VyCV-oqB-",
        "outputId": "cb924cc0-0de5-4f00-ed9a-2d111046a4aa"
      },
      "execution_count": null,
      "outputs": [
        {
          "output_type": "execute_result",
          "data": {
            "text/plain": [
              "array([[6, 6],\n",
              "       [8, 3]])"
            ]
          },
          "metadata": {},
          "execution_count": 41
        }
      ]
    },
    {
      "cell_type": "markdown",
      "source": [
        "# **`FANCY INDEX`** "
      ],
      "metadata": {
        "id": "n2DTPNSRpC_l"
      }
    },
    {
      "cell_type": "code",
      "source": [
        "q = np.arange(0, 30, 3)\n",
        "q"
      ],
      "metadata": {
        "colab": {
          "base_uri": "https://localhost:8080/"
        },
        "id": "M57mHaKgpJ2X",
        "outputId": "3249961e-2477-43ae-c519-9801fd6e7928"
      },
      "execution_count": null,
      "outputs": [
        {
          "output_type": "execute_result",
          "data": {
            "text/plain": [
              "array([ 0,  3,  6,  9, 12, 15, 18, 21, 24, 27])"
            ]
          },
          "metadata": {},
          "execution_count": 45
        }
      ]
    },
    {
      "cell_type": "code",
      "source": [
        "catch = [1, 2, 3]\n",
        "q[catch]"
      ],
      "metadata": {
        "colab": {
          "base_uri": "https://localhost:8080/"
        },
        "id": "KqqdOXJnpblm",
        "outputId": "2895cba6-788a-4252-d027-ee3234004719"
      },
      "execution_count": null,
      "outputs": [
        {
          "output_type": "execute_result",
          "data": {
            "text/plain": [
              "array([3, 6, 9])"
            ]
          },
          "metadata": {},
          "execution_count": 46
        }
      ]
    },
    {
      "cell_type": "markdown",
      "source": [
        "# **NUMPY KOŞULLU İŞLEMLER & MATEMATİKSEL İŞLEMLER** "
      ],
      "metadata": {
        "id": "3J5sX_rlr25R"
      }
    },
    {
      "cell_type": "code",
      "source": [
        "h = np.array([1, 2, 3, 4, 5, 6, 7])"
      ],
      "metadata": {
        "id": "KcL9trF4p4El"
      },
      "execution_count": null,
      "outputs": []
    },
    {
      "cell_type": "code",
      "source": [
        "h[h < 4]"
      ],
      "metadata": {
        "colab": {
          "base_uri": "https://localhost:8080/"
        },
        "id": "L7aA9SS5skj7",
        "outputId": "5821b0fb-7ed5-4abc-f716-2d05a7ac76cd"
      },
      "execution_count": null,
      "outputs": [
        {
          "output_type": "execute_result",
          "data": {
            "text/plain": [
              "array([1, 2, 3])"
            ]
          },
          "metadata": {},
          "execution_count": 48
        }
      ]
    },
    {
      "cell_type": "code",
      "source": [
        "h[h != 4]"
      ],
      "metadata": {
        "colab": {
          "base_uri": "https://localhost:8080/"
        },
        "id": "FvdnXb8vspre",
        "outputId": "16466388-3149-4ef7-a51b-83b396847f78"
      },
      "execution_count": null,
      "outputs": [
        {
          "output_type": "execute_result",
          "data": {
            "text/plain": [
              "array([1, 2, 3, 5, 6, 7])"
            ]
          },
          "metadata": {},
          "execution_count": 49
        }
      ]
    },
    {
      "cell_type": "code",
      "source": [
        "h * 0.5"
      ],
      "metadata": {
        "colab": {
          "base_uri": "https://localhost:8080/"
        },
        "id": "1Py7Mb26s06N",
        "outputId": "b52f616a-4657-4d9a-ca72-b03f8a900008"
      },
      "execution_count": null,
      "outputs": [
        {
          "output_type": "execute_result",
          "data": {
            "text/plain": [
              "array([0.5, 1. , 1.5, 2. , 2.5, 3. , 3.5])"
            ]
          },
          "metadata": {},
          "execution_count": 50
        }
      ]
    },
    {
      "cell_type": "code",
      "source": [
        "np.min(h)"
      ],
      "metadata": {
        "colab": {
          "base_uri": "https://localhost:8080/"
        },
        "id": "v8pfRHkQtR7k",
        "outputId": "07dbef6e-b82f-4cbd-ea0f-5f67a3795df7"
      },
      "execution_count": null,
      "outputs": [
        {
          "output_type": "execute_result",
          "data": {
            "text/plain": [
              "1"
            ]
          },
          "metadata": {},
          "execution_count": 51
        }
      ]
    },
    {
      "cell_type": "code",
      "source": [
        "np.var(h)"
      ],
      "metadata": {
        "colab": {
          "base_uri": "https://localhost:8080/"
        },
        "id": "Kx4nkR4ztdj1",
        "outputId": "8b1da794-b259-49c5-c58a-167cd9034e71"
      },
      "execution_count": null,
      "outputs": [
        {
          "output_type": "execute_result",
          "data": {
            "text/plain": [
              "4.0"
            ]
          },
          "metadata": {},
          "execution_count": 52
        }
      ]
    },
    {
      "cell_type": "code",
      "source": [
        "np.add(h, 89)"
      ],
      "metadata": {
        "colab": {
          "base_uri": "https://localhost:8080/"
        },
        "id": "MGLC-uwgtiaN",
        "outputId": "ae83e3e9-39f7-422a-c830-0be1f8c83324"
      },
      "execution_count": null,
      "outputs": [
        {
          "output_type": "execute_result",
          "data": {
            "text/plain": [
              "array([90, 91, 92, 93, 94, 95, 96])"
            ]
          },
          "metadata": {},
          "execution_count": 53
        }
      ]
    },
    {
      "cell_type": "markdown",
      "source": [
        "# **`PANDAS & VERİYE HIZLI BAKIŞ`**"
      ],
      "metadata": {
        "id": "KlDb91yFuz1F"
      }
    },
    {
      "cell_type": "code",
      "source": [
        "import pandas as pd\n",
        "s = pd.Series([2, 4, 56, 78, 88])\n",
        "s"
      ],
      "metadata": {
        "colab": {
          "base_uri": "https://localhost:8080/"
        },
        "id": "u61bHSrGtnr5",
        "outputId": "755c6321-fb01-468e-9df0-44487268456b"
      },
      "execution_count": null,
      "outputs": [
        {
          "output_type": "execute_result",
          "data": {
            "text/plain": [
              "0     2\n",
              "1     4\n",
              "2    56\n",
              "3    78\n",
              "4    88\n",
              "dtype: int64"
            ]
          },
          "metadata": {},
          "execution_count": 59
        }
      ]
    },
    {
      "cell_type": "code",
      "source": [
        "type(s)"
      ],
      "metadata": {
        "colab": {
          "base_uri": "https://localhost:8080/"
        },
        "id": "hk3DV6g-wRNi",
        "outputId": "cf009004-70fc-473c-89c7-e06e8e3e7694"
      },
      "execution_count": null,
      "outputs": [
        {
          "output_type": "execute_result",
          "data": {
            "text/plain": [
              "pandas.core.series.Series"
            ]
          },
          "metadata": {},
          "execution_count": 57
        }
      ]
    },
    {
      "cell_type": "code",
      "source": [
        "s.index"
      ],
      "metadata": {
        "colab": {
          "base_uri": "https://localhost:8080/"
        },
        "id": "ILMVCG4twaqs",
        "outputId": "f0ffc74a-090d-4ebf-898b-dbd65f40e278"
      },
      "execution_count": null,
      "outputs": [
        {
          "output_type": "execute_result",
          "data": {
            "text/plain": [
              "RangeIndex(start=0, stop=5, step=1)"
            ]
          },
          "metadata": {},
          "execution_count": 60
        }
      ]
    },
    {
      "cell_type": "code",
      "source": [
        "s.values"
      ],
      "metadata": {
        "colab": {
          "base_uri": "https://localhost:8080/"
        },
        "id": "vS9UnNU-woW3",
        "outputId": "9286f8f5-c48e-4602-cf73-3b119fd110d0"
      },
      "execution_count": null,
      "outputs": [
        {
          "output_type": "execute_result",
          "data": {
            "text/plain": [
              "array([ 2,  4, 56, 78, 88])"
            ]
          },
          "metadata": {},
          "execution_count": 61
        }
      ]
    },
    {
      "cell_type": "code",
      "source": [
        "s.head(3)"
      ],
      "metadata": {
        "colab": {
          "base_uri": "https://localhost:8080/"
        },
        "id": "0i2aovF6wsoP",
        "outputId": "10cae96d-77db-46fb-adf1-e9a9579ddbda"
      },
      "execution_count": null,
      "outputs": [
        {
          "output_type": "execute_result",
          "data": {
            "text/plain": [
              "0     2\n",
              "1     4\n",
              "2    56\n",
              "dtype: int64"
            ]
          },
          "metadata": {},
          "execution_count": 62
        }
      ]
    },
    {
      "cell_type": "code",
      "source": [
        "s.tail(3)"
      ],
      "metadata": {
        "colab": {
          "base_uri": "https://localhost:8080/"
        },
        "id": "rxVv-L16w5cB",
        "outputId": "21b55f98-beee-4385-f63a-47d3fb3b7191"
      },
      "execution_count": null,
      "outputs": [
        {
          "output_type": "execute_result",
          "data": {
            "text/plain": [
              "2    56\n",
              "3    78\n",
              "4    88\n",
              "dtype: int64"
            ]
          },
          "metadata": {},
          "execution_count": 63
        }
      ]
    },
    {
      "cell_type": "code",
      "source": [
        "#  df = pd.read_csv(\"dosya path ı\")\n",
        "#  df.head()\n",
        "# pycharm'da pd ifadesine ctrl yaparak basılırsa bir dökümantasyon açlışmış olur, bu dökümantasyon içinde crtl + f yapıp read yazınca \n",
        "# pd nin okuyabileceği farklı türdeki dosya tiplerinin nasıl okunabileceğine erişilmiş olur"
      ],
      "metadata": {
        "id": "4oi-IJPyw-Qd"
      },
      "execution_count": null,
      "outputs": []
    },
    {
      "cell_type": "markdown",
      "source": [
        "![image.png](data:image/png;base64,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)"
      ],
      "metadata": {
        "id": "y784erBOyyqC"
      }
    },
    {
      "cell_type": "code",
      "source": [
        "#yukarda belirtilen fonksiyonların üzerine tıklayınca nasıl kullanıldıklarını anlatan dökümantasyon açılıyor"
      ],
      "metadata": {
        "id": "tJNmReo5y3tC"
      },
      "execution_count": null,
      "outputs": []
    },
    {
      "cell_type": "code",
      "source": [
        "import seaborn as sns\n",
        "df = sns.load_dataset(\"titanic\")"
      ],
      "metadata": {
        "id": "bT_OhF7xzPUg"
      },
      "execution_count": 3,
      "outputs": []
    },
    {
      "cell_type": "code",
      "source": [
        "df.head()"
      ],
      "metadata": {
        "colab": {
          "base_uri": "https://localhost:8080/",
          "height": 206
        },
        "id": "cQMTDRoS0dQt",
        "outputId": "c3a42a58-2823-405b-c8d3-00ce5dbebba9"
      },
      "execution_count": 4,
      "outputs": [
        {
          "output_type": "execute_result",
          "data": {
            "text/plain": [
              "   survived  pclass     sex   age  sibsp  parch     fare embarked  class  \\\n",
              "0         0       3    male  22.0      1      0   7.2500        S  Third   \n",
              "1         1       1  female  38.0      1      0  71.2833        C  First   \n",
              "2         1       3  female  26.0      0      0   7.9250        S  Third   \n",
              "3         1       1  female  35.0      1      0  53.1000        S  First   \n",
              "4         0       3    male  35.0      0      0   8.0500        S  Third   \n",
              "\n",
              "     who  adult_male deck  embark_town alive  alone  \n",
              "0    man        True  NaN  Southampton    no  False  \n",
              "1  woman       False    C    Cherbourg   yes  False  \n",
              "2  woman       False  NaN  Southampton   yes   True  \n",
              "3  woman       False    C  Southampton   yes  False  \n",
              "4    man        True  NaN  Southampton    no   True  "
            ],
            "text/html": [
              "\n",
              "  <div id=\"df-7095bd4d-f1d2-4f32-985f-9ec100000ae8\">\n",
              "    <div class=\"colab-df-container\">\n",
              "      <div>\n",
              "<style scoped>\n",
              "    .dataframe tbody tr th:only-of-type {\n",
              "        vertical-align: middle;\n",
              "    }\n",
              "\n",
              "    .dataframe tbody tr th {\n",
              "        vertical-align: top;\n",
              "    }\n",
              "\n",
              "    .dataframe thead th {\n",
              "        text-align: right;\n",
              "    }\n",
              "</style>\n",
              "<table border=\"1\" class=\"dataframe\">\n",
              "  <thead>\n",
              "    <tr style=\"text-align: right;\">\n",
              "      <th></th>\n",
              "      <th>survived</th>\n",
              "      <th>pclass</th>\n",
              "      <th>sex</th>\n",
              "      <th>age</th>\n",
              "      <th>sibsp</th>\n",
              "      <th>parch</th>\n",
              "      <th>fare</th>\n",
              "      <th>embarked</th>\n",
              "      <th>class</th>\n",
              "      <th>who</th>\n",
              "      <th>adult_male</th>\n",
              "      <th>deck</th>\n",
              "      <th>embark_town</th>\n",
              "      <th>alive</th>\n",
              "      <th>alone</th>\n",
              "    </tr>\n",
              "  </thead>\n",
              "  <tbody>\n",
              "    <tr>\n",
              "      <th>0</th>\n",
              "      <td>0</td>\n",
              "      <td>3</td>\n",
              "      <td>male</td>\n",
              "      <td>22.0</td>\n",
              "      <td>1</td>\n",
              "      <td>0</td>\n",
              "      <td>7.2500</td>\n",
              "      <td>S</td>\n",
              "      <td>Third</td>\n",
              "      <td>man</td>\n",
              "      <td>True</td>\n",
              "      <td>NaN</td>\n",
              "      <td>Southampton</td>\n",
              "      <td>no</td>\n",
              "      <td>False</td>\n",
              "    </tr>\n",
              "    <tr>\n",
              "      <th>1</th>\n",
              "      <td>1</td>\n",
              "      <td>1</td>\n",
              "      <td>female</td>\n",
              "      <td>38.0</td>\n",
              "      <td>1</td>\n",
              "      <td>0</td>\n",
              "      <td>71.2833</td>\n",
              "      <td>C</td>\n",
              "      <td>First</td>\n",
              "      <td>woman</td>\n",
              "      <td>False</td>\n",
              "      <td>C</td>\n",
              "      <td>Cherbourg</td>\n",
              "      <td>yes</td>\n",
              "      <td>False</td>\n",
              "    </tr>\n",
              "    <tr>\n",
              "      <th>2</th>\n",
              "      <td>1</td>\n",
              "      <td>3</td>\n",
              "      <td>female</td>\n",
              "      <td>26.0</td>\n",
              "      <td>0</td>\n",
              "      <td>0</td>\n",
              "      <td>7.9250</td>\n",
              "      <td>S</td>\n",
              "      <td>Third</td>\n",
              "      <td>woman</td>\n",
              "      <td>False</td>\n",
              "      <td>NaN</td>\n",
              "      <td>Southampton</td>\n",
              "      <td>yes</td>\n",
              "      <td>True</td>\n",
              "    </tr>\n",
              "    <tr>\n",
              "      <th>3</th>\n",
              "      <td>1</td>\n",
              "      <td>1</td>\n",
              "      <td>female</td>\n",
              "      <td>35.0</td>\n",
              "      <td>1</td>\n",
              "      <td>0</td>\n",
              "      <td>53.1000</td>\n",
              "      <td>S</td>\n",
              "      <td>First</td>\n",
              "      <td>woman</td>\n",
              "      <td>False</td>\n",
              "      <td>C</td>\n",
              "      <td>Southampton</td>\n",
              "      <td>yes</td>\n",
              "      <td>False</td>\n",
              "    </tr>\n",
              "    <tr>\n",
              "      <th>4</th>\n",
              "      <td>0</td>\n",
              "      <td>3</td>\n",
              "      <td>male</td>\n",
              "      <td>35.0</td>\n",
              "      <td>0</td>\n",
              "      <td>0</td>\n",
              "      <td>8.0500</td>\n",
              "      <td>S</td>\n",
              "      <td>Third</td>\n",
              "      <td>man</td>\n",
              "      <td>True</td>\n",
              "      <td>NaN</td>\n",
              "      <td>Southampton</td>\n",
              "      <td>no</td>\n",
              "      <td>True</td>\n",
              "    </tr>\n",
              "  </tbody>\n",
              "</table>\n",
              "</div>\n",
              "      <button class=\"colab-df-convert\" onclick=\"convertToInteractive('df-7095bd4d-f1d2-4f32-985f-9ec100000ae8')\"\n",
              "              title=\"Convert this dataframe to an interactive table.\"\n",
              "              style=\"display:none;\">\n",
              "        \n",
              "  <svg xmlns=\"http://www.w3.org/2000/svg\" height=\"24px\"viewBox=\"0 0 24 24\"\n",
              "       width=\"24px\">\n",
              "    <path d=\"M0 0h24v24H0V0z\" fill=\"none\"/>\n",
              "    <path d=\"M18.56 5.44l.94 2.06.94-2.06 2.06-.94-2.06-.94-.94-2.06-.94 2.06-2.06.94zm-11 1L8.5 8.5l.94-2.06 2.06-.94-2.06-.94L8.5 2.5l-.94 2.06-2.06.94zm10 10l.94 2.06.94-2.06 2.06-.94-2.06-.94-.94-2.06-.94 2.06-2.06.94z\"/><path d=\"M17.41 7.96l-1.37-1.37c-.4-.4-.92-.59-1.43-.59-.52 0-1.04.2-1.43.59L10.3 9.45l-7.72 7.72c-.78.78-.78 2.05 0 2.83L4 21.41c.39.39.9.59 1.41.59.51 0 1.02-.2 1.41-.59l7.78-7.78 2.81-2.81c.8-.78.8-2.07 0-2.86zM5.41 20L4 18.59l7.72-7.72 1.47 1.35L5.41 20z\"/>\n",
              "  </svg>\n",
              "      </button>\n",
              "      \n",
              "  <style>\n",
              "    .colab-df-container {\n",
              "      display:flex;\n",
              "      flex-wrap:wrap;\n",
              "      gap: 12px;\n",
              "    }\n",
              "\n",
              "    .colab-df-convert {\n",
              "      background-color: #E8F0FE;\n",
              "      border: none;\n",
              "      border-radius: 50%;\n",
              "      cursor: pointer;\n",
              "      display: none;\n",
              "      fill: #1967D2;\n",
              "      height: 32px;\n",
              "      padding: 0 0 0 0;\n",
              "      width: 32px;\n",
              "    }\n",
              "\n",
              "    .colab-df-convert:hover {\n",
              "      background-color: #E2EBFA;\n",
              "      box-shadow: 0px 1px 2px rgba(60, 64, 67, 0.3), 0px 1px 3px 1px rgba(60, 64, 67, 0.15);\n",
              "      fill: #174EA6;\n",
              "    }\n",
              "\n",
              "    [theme=dark] .colab-df-convert {\n",
              "      background-color: #3B4455;\n",
              "      fill: #D2E3FC;\n",
              "    }\n",
              "\n",
              "    [theme=dark] .colab-df-convert:hover {\n",
              "      background-color: #434B5C;\n",
              "      box-shadow: 0px 1px 3px 1px rgba(0, 0, 0, 0.15);\n",
              "      filter: drop-shadow(0px 1px 2px rgba(0, 0, 0, 0.3));\n",
              "      fill: #FFFFFF;\n",
              "    }\n",
              "  </style>\n",
              "\n",
              "      <script>\n",
              "        const buttonEl =\n",
              "          document.querySelector('#df-7095bd4d-f1d2-4f32-985f-9ec100000ae8 button.colab-df-convert');\n",
              "        buttonEl.style.display =\n",
              "          google.colab.kernel.accessAllowed ? 'block' : 'none';\n",
              "\n",
              "        async function convertToInteractive(key) {\n",
              "          const element = document.querySelector('#df-7095bd4d-f1d2-4f32-985f-9ec100000ae8');\n",
              "          const dataTable =\n",
              "            await google.colab.kernel.invokeFunction('convertToInteractive',\n",
              "                                                     [key], {});\n",
              "          if (!dataTable) return;\n",
              "\n",
              "          const docLinkHtml = 'Like what you see? Visit the ' +\n",
              "            '<a target=\"_blank\" href=https://colab.research.google.com/notebooks/data_table.ipynb>data table notebook</a>'\n",
              "            + ' to learn more about interactive tables.';\n",
              "          element.innerHTML = '';\n",
              "          dataTable['output_type'] = 'display_data';\n",
              "          await google.colab.output.renderOutput(dataTable, element);\n",
              "          const docLink = document.createElement('div');\n",
              "          docLink.innerHTML = docLinkHtml;\n",
              "          element.appendChild(docLink);\n",
              "        }\n",
              "      </script>\n",
              "    </div>\n",
              "  </div>\n",
              "  "
            ]
          },
          "metadata": {},
          "execution_count": 4
        }
      ]
    },
    {
      "cell_type": "code",
      "source": [
        "df.shape"
      ],
      "metadata": {
        "id": "CYHbqfXl0hbf",
        "colab": {
          "base_uri": "https://localhost:8080/"
        },
        "outputId": "ba9f1ce6-b42c-473f-9b56-98fa21acd8d8"
      },
      "execution_count": 5,
      "outputs": [
        {
          "output_type": "execute_result",
          "data": {
            "text/plain": [
              "(891, 15)"
            ]
          },
          "metadata": {},
          "execution_count": 5
        }
      ]
    },
    {
      "cell_type": "code",
      "source": [
        "df.info()"
      ],
      "metadata": {
        "colab": {
          "base_uri": "https://localhost:8080/"
        },
        "id": "_qxjE75Mnj2G",
        "outputId": "fecce238-1bfe-4ebc-d8f1-b4049d98e039"
      },
      "execution_count": 6,
      "outputs": [
        {
          "output_type": "stream",
          "name": "stdout",
          "text": [
            "<class 'pandas.core.frame.DataFrame'>\n",
            "RangeIndex: 891 entries, 0 to 890\n",
            "Data columns (total 15 columns):\n",
            " #   Column       Non-Null Count  Dtype   \n",
            "---  ------       --------------  -----   \n",
            " 0   survived     891 non-null    int64   \n",
            " 1   pclass       891 non-null    int64   \n",
            " 2   sex          891 non-null    object  \n",
            " 3   age          714 non-null    float64 \n",
            " 4   sibsp        891 non-null    int64   \n",
            " 5   parch        891 non-null    int64   \n",
            " 6   fare         891 non-null    float64 \n",
            " 7   embarked     889 non-null    object  \n",
            " 8   class        891 non-null    category\n",
            " 9   who          891 non-null    object  \n",
            " 10  adult_male   891 non-null    bool    \n",
            " 11  deck         203 non-null    category\n",
            " 12  embark_town  889 non-null    object  \n",
            " 13  alive        891 non-null    object  \n",
            " 14  alone        891 non-null    bool    \n",
            "dtypes: bool(2), category(2), float64(2), int64(4), object(5)\n",
            "memory usage: 80.7+ KB\n"
          ]
        }
      ]
    },
    {
      "cell_type": "code",
      "source": [
        "df.columns"
      ],
      "metadata": {
        "colab": {
          "base_uri": "https://localhost:8080/"
        },
        "id": "NkFzodwhn4BI",
        "outputId": "d34b342f-9ff1-4ccd-f2f4-7a04318492cd"
      },
      "execution_count": 8,
      "outputs": [
        {
          "output_type": "execute_result",
          "data": {
            "text/plain": [
              "Index(['survived', 'pclass', 'sex', 'age', 'sibsp', 'parch', 'fare',\n",
              "       'embarked', 'class', 'who', 'adult_male', 'deck', 'embark_town',\n",
              "       'alive', 'alone'],\n",
              "      dtype='object')"
            ]
          },
          "metadata": {},
          "execution_count": 8
        }
      ]
    },
    {
      "cell_type": "code",
      "source": [
        "df.index"
      ],
      "metadata": {
        "colab": {
          "base_uri": "https://localhost:8080/"
        },
        "id": "7Lt8RsCKpr85",
        "outputId": "e9df15aa-a373-4554-9ccf-e4d67728c7a7"
      },
      "execution_count": 9,
      "outputs": [
        {
          "output_type": "execute_result",
          "data": {
            "text/plain": [
              "RangeIndex(start=0, stop=891, step=1)"
            ]
          },
          "metadata": {},
          "execution_count": 9
        }
      ]
    },
    {
      "cell_type": "code",
      "source": [
        "df.describe().T"
      ],
      "metadata": {
        "colab": {
          "base_uri": "https://localhost:8080/",
          "height": 238
        },
        "id": "RhxMZR_mpy1I",
        "outputId": "5a10164b-7657-4718-fc61-c3a6c86f1cf1"
      },
      "execution_count": 10,
      "outputs": [
        {
          "output_type": "execute_result",
          "data": {
            "text/plain": [
              "          count       mean        std   min      25%      50%   75%       max\n",
              "survived  891.0   0.383838   0.486592  0.00   0.0000   0.0000   1.0    1.0000\n",
              "pclass    891.0   2.308642   0.836071  1.00   2.0000   3.0000   3.0    3.0000\n",
              "age       714.0  29.699118  14.526497  0.42  20.1250  28.0000  38.0   80.0000\n",
              "sibsp     891.0   0.523008   1.102743  0.00   0.0000   0.0000   1.0    8.0000\n",
              "parch     891.0   0.381594   0.806057  0.00   0.0000   0.0000   0.0    6.0000\n",
              "fare      891.0  32.204208  49.693429  0.00   7.9104  14.4542  31.0  512.3292"
            ],
            "text/html": [
              "\n",
              "  <div id=\"df-ee524394-1c97-4b80-880e-79931ce26af9\">\n",
              "    <div class=\"colab-df-container\">\n",
              "      <div>\n",
              "<style scoped>\n",
              "    .dataframe tbody tr th:only-of-type {\n",
              "        vertical-align: middle;\n",
              "    }\n",
              "\n",
              "    .dataframe tbody tr th {\n",
              "        vertical-align: top;\n",
              "    }\n",
              "\n",
              "    .dataframe thead th {\n",
              "        text-align: right;\n",
              "    }\n",
              "</style>\n",
              "<table border=\"1\" class=\"dataframe\">\n",
              "  <thead>\n",
              "    <tr style=\"text-align: right;\">\n",
              "      <th></th>\n",
              "      <th>count</th>\n",
              "      <th>mean</th>\n",
              "      <th>std</th>\n",
              "      <th>min</th>\n",
              "      <th>25%</th>\n",
              "      <th>50%</th>\n",
              "      <th>75%</th>\n",
              "      <th>max</th>\n",
              "    </tr>\n",
              "  </thead>\n",
              "  <tbody>\n",
              "    <tr>\n",
              "      <th>survived</th>\n",
              "      <td>891.0</td>\n",
              "      <td>0.383838</td>\n",
              "      <td>0.486592</td>\n",
              "      <td>0.00</td>\n",
              "      <td>0.0000</td>\n",
              "      <td>0.0000</td>\n",
              "      <td>1.0</td>\n",
              "      <td>1.0000</td>\n",
              "    </tr>\n",
              "    <tr>\n",
              "      <th>pclass</th>\n",
              "      <td>891.0</td>\n",
              "      <td>2.308642</td>\n",
              "      <td>0.836071</td>\n",
              "      <td>1.00</td>\n",
              "      <td>2.0000</td>\n",
              "      <td>3.0000</td>\n",
              "      <td>3.0</td>\n",
              "      <td>3.0000</td>\n",
              "    </tr>\n",
              "    <tr>\n",
              "      <th>age</th>\n",
              "      <td>714.0</td>\n",
              "      <td>29.699118</td>\n",
              "      <td>14.526497</td>\n",
              "      <td>0.42</td>\n",
              "      <td>20.1250</td>\n",
              "      <td>28.0000</td>\n",
              "      <td>38.0</td>\n",
              "      <td>80.0000</td>\n",
              "    </tr>\n",
              "    <tr>\n",
              "      <th>sibsp</th>\n",
              "      <td>891.0</td>\n",
              "      <td>0.523008</td>\n",
              "      <td>1.102743</td>\n",
              "      <td>0.00</td>\n",
              "      <td>0.0000</td>\n",
              "      <td>0.0000</td>\n",
              "      <td>1.0</td>\n",
              "      <td>8.0000</td>\n",
              "    </tr>\n",
              "    <tr>\n",
              "      <th>parch</th>\n",
              "      <td>891.0</td>\n",
              "      <td>0.381594</td>\n",
              "      <td>0.806057</td>\n",
              "      <td>0.00</td>\n",
              "      <td>0.0000</td>\n",
              "      <td>0.0000</td>\n",
              "      <td>0.0</td>\n",
              "      <td>6.0000</td>\n",
              "    </tr>\n",
              "    <tr>\n",
              "      <th>fare</th>\n",
              "      <td>891.0</td>\n",
              "      <td>32.204208</td>\n",
              "      <td>49.693429</td>\n",
              "      <td>0.00</td>\n",
              "      <td>7.9104</td>\n",
              "      <td>14.4542</td>\n",
              "      <td>31.0</td>\n",
              "      <td>512.3292</td>\n",
              "    </tr>\n",
              "  </tbody>\n",
              "</table>\n",
              "</div>\n",
              "      <button class=\"colab-df-convert\" onclick=\"convertToInteractive('df-ee524394-1c97-4b80-880e-79931ce26af9')\"\n",
              "              title=\"Convert this dataframe to an interactive table.\"\n",
              "              style=\"display:none;\">\n",
              "        \n",
              "  <svg xmlns=\"http://www.w3.org/2000/svg\" height=\"24px\"viewBox=\"0 0 24 24\"\n",
              "       width=\"24px\">\n",
              "    <path d=\"M0 0h24v24H0V0z\" fill=\"none\"/>\n",
              "    <path d=\"M18.56 5.44l.94 2.06.94-2.06 2.06-.94-2.06-.94-.94-2.06-.94 2.06-2.06.94zm-11 1L8.5 8.5l.94-2.06 2.06-.94-2.06-.94L8.5 2.5l-.94 2.06-2.06.94zm10 10l.94 2.06.94-2.06 2.06-.94-2.06-.94-.94-2.06-.94 2.06-2.06.94z\"/><path d=\"M17.41 7.96l-1.37-1.37c-.4-.4-.92-.59-1.43-.59-.52 0-1.04.2-1.43.59L10.3 9.45l-7.72 7.72c-.78.78-.78 2.05 0 2.83L4 21.41c.39.39.9.59 1.41.59.51 0 1.02-.2 1.41-.59l7.78-7.78 2.81-2.81c.8-.78.8-2.07 0-2.86zM5.41 20L4 18.59l7.72-7.72 1.47 1.35L5.41 20z\"/>\n",
              "  </svg>\n",
              "      </button>\n",
              "      \n",
              "  <style>\n",
              "    .colab-df-container {\n",
              "      display:flex;\n",
              "      flex-wrap:wrap;\n",
              "      gap: 12px;\n",
              "    }\n",
              "\n",
              "    .colab-df-convert {\n",
              "      background-color: #E8F0FE;\n",
              "      border: none;\n",
              "      border-radius: 50%;\n",
              "      cursor: pointer;\n",
              "      display: none;\n",
              "      fill: #1967D2;\n",
              "      height: 32px;\n",
              "      padding: 0 0 0 0;\n",
              "      width: 32px;\n",
              "    }\n",
              "\n",
              "    .colab-df-convert:hover {\n",
              "      background-color: #E2EBFA;\n",
              "      box-shadow: 0px 1px 2px rgba(60, 64, 67, 0.3), 0px 1px 3px 1px rgba(60, 64, 67, 0.15);\n",
              "      fill: #174EA6;\n",
              "    }\n",
              "\n",
              "    [theme=dark] .colab-df-convert {\n",
              "      background-color: #3B4455;\n",
              "      fill: #D2E3FC;\n",
              "    }\n",
              "\n",
              "    [theme=dark] .colab-df-convert:hover {\n",
              "      background-color: #434B5C;\n",
              "      box-shadow: 0px 1px 3px 1px rgba(0, 0, 0, 0.15);\n",
              "      filter: drop-shadow(0px 1px 2px rgba(0, 0, 0, 0.3));\n",
              "      fill: #FFFFFF;\n",
              "    }\n",
              "  </style>\n",
              "\n",
              "      <script>\n",
              "        const buttonEl =\n",
              "          document.querySelector('#df-ee524394-1c97-4b80-880e-79931ce26af9 button.colab-df-convert');\n",
              "        buttonEl.style.display =\n",
              "          google.colab.kernel.accessAllowed ? 'block' : 'none';\n",
              "\n",
              "        async function convertToInteractive(key) {\n",
              "          const element = document.querySelector('#df-ee524394-1c97-4b80-880e-79931ce26af9');\n",
              "          const dataTable =\n",
              "            await google.colab.kernel.invokeFunction('convertToInteractive',\n",
              "                                                     [key], {});\n",
              "          if (!dataTable) return;\n",
              "\n",
              "          const docLinkHtml = 'Like what you see? Visit the ' +\n",
              "            '<a target=\"_blank\" href=https://colab.research.google.com/notebooks/data_table.ipynb>data table notebook</a>'\n",
              "            + ' to learn more about interactive tables.';\n",
              "          element.innerHTML = '';\n",
              "          dataTable['output_type'] = 'display_data';\n",
              "          await google.colab.output.renderOutput(dataTable, element);\n",
              "          const docLink = document.createElement('div');\n",
              "          docLink.innerHTML = docLinkHtml;\n",
              "          element.appendChild(docLink);\n",
              "        }\n",
              "      </script>\n",
              "    </div>\n",
              "  </div>\n",
              "  "
            ]
          },
          "metadata": {},
          "execution_count": 10
        }
      ]
    },
    {
      "cell_type": "code",
      "source": [
        "df.isnull().values.any()"
      ],
      "metadata": {
        "colab": {
          "base_uri": "https://localhost:8080/"
        },
        "id": "TbehcXsYqBUi",
        "outputId": "822bd655-2304-4644-b684-ee9abd95cdaf"
      },
      "execution_count": 12,
      "outputs": [
        {
          "output_type": "execute_result",
          "data": {
            "text/plain": [
              "True"
            ]
          },
          "metadata": {},
          "execution_count": 12
        }
      ]
    },
    {
      "cell_type": "code",
      "source": [
        "df.isnull().sum()"
      ],
      "metadata": {
        "colab": {
          "base_uri": "https://localhost:8080/"
        },
        "id": "G6vPo9VV6bga",
        "outputId": "8bdf1439-1c0e-4f3e-f141-4c765f30dd5a"
      },
      "execution_count": 13,
      "outputs": [
        {
          "output_type": "execute_result",
          "data": {
            "text/plain": [
              "survived         0\n",
              "pclass           0\n",
              "sex              0\n",
              "age            177\n",
              "sibsp            0\n",
              "parch            0\n",
              "fare             0\n",
              "embarked         2\n",
              "class            0\n",
              "who              0\n",
              "adult_male       0\n",
              "deck           688\n",
              "embark_town      2\n",
              "alive            0\n",
              "alone            0\n",
              "dtype: int64"
            ]
          },
          "metadata": {},
          "execution_count": 13
        }
      ]
    },
    {
      "cell_type": "code",
      "source": [
        "df[\"sex\"].value_counts()"
      ],
      "metadata": {
        "colab": {
          "base_uri": "https://localhost:8080/"
        },
        "id": "dxrxPsa_GOSh",
        "outputId": "ddf2383b-12d4-439c-d6ed-94412e647ba1"
      },
      "execution_count": 14,
      "outputs": [
        {
          "output_type": "execute_result",
          "data": {
            "text/plain": [
              "male      577\n",
              "female    314\n",
              "Name: sex, dtype: int64"
            ]
          },
          "metadata": {},
          "execution_count": 14
        }
      ]
    }
  ]
}