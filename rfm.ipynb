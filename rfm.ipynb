{
  "nbformat": 4,
  "nbformat_minor": 0,
  "metadata": {
    "colab": {
      "provenance": [],
      "authorship_tag": "ABX9TyPsYt3RLaKd4xP8UmxU0FXp",
      "include_colab_link": true
    },
    "kernelspec": {
      "name": "python3",
      "display_name": "Python 3"
    },
    "language_info": {
      "name": "python"
    }
  },
  "cells": [
    {
      "cell_type": "markdown",
      "metadata": {
        "id": "view-in-github",
        "colab_type": "text"
      },
      "source": [
        "<a href=\"https://colab.research.google.com/github/ngamzedeniz/DS-Miuul/blob/main/rfm.ipynb\" target=\"_parent\"><img src=\"https://colab.research.google.com/assets/colab-badge.svg\" alt=\"Open In Colab\"/></a>"
      ]
    },
    {
      "cell_type": "code",
      "source": [
        "import datetime as dt\n",
        "import pandas as pd\n",
        "\n",
        "import matplotlib.pyplot as plt\n",
        "\n",
        "\n",
        "\n",
        "# pd.set_option('display.max_columns', None)\n",
        "pd.set_option('display.width', 500)\n",
        "pd.set_option('display.float_format', lambda x: '%.4f' % x)\n",
        "\n",
        "# Adım 1\n",
        "df_ = pd.read_csv(\"/content/flo_data_20k.csv\")\n",
        "df = df_.copy()\n",
        "\n",
        "#Adım 2\n",
        "df.head(10)\n",
        "df.columns\n",
        "df.describe().T\n",
        "df.isnull().sum()\n",
        "df.sum()\n",
        "\n",
        "# Adım 3\n",
        "\n",
        "df[\"order_num_total\"] = df[\"order_num_total_ever_online\"] + df[\"order_num_total_ever_offline\"]\n",
        "df[\"customer_value_total\"] = df[\"customer_value_total_ever_online\"] + df[\"customer_value_total_ever_offline\"]\n",
        "\n",
        "# Adım 4\n",
        "df[\"last_order_date\"].max()\n",
        "today_date = dt.datetime(2021, 6, 3)\n",
        "from datetime import datetime\n",
        "\n",
        "date_columns = df.columns[df.columns.str.contains(\"date\")]\n",
        "df[date_columns] = df[date_columns].apply(pd.to_datetime, format='%Y-%m-%d')\n",
        "\n",
        "\n",
        "\n",
        "rfm = df.groupby(\"master_id\").agg({\"last_order_date\": lambda date: (today_date - date.iloc[0]).days,\n",
        "                                   \"order_num_total\": lambda num: num,\n",
        "                                   \"customer_value_total\": lambda value: value,\n",
        "                                   })\n"
      ],
      "metadata": {
        "id": "hfKHZuG59vZ7"
      },
      "execution_count": 5,
      "outputs": []
    },
    {
      "cell_type": "code",
      "source": [
        "df[\"last_order_date\"].max()"
      ],
      "metadata": {
        "colab": {
          "base_uri": "https://localhost:8080/"
        },
        "id": "R6J3Dysm_sTM",
        "outputId": "d90e14a4-73a5-4d7f-da99-7d85fd2f1059"
      },
      "execution_count": 4,
      "outputs": [
        {
          "output_type": "execute_result",
          "data": {
            "text/plain": [
              "Timestamp('2021-05-30 00:00:00')"
            ]
          },
          "metadata": {},
          "execution_count": 4
        }
      ]
    },
    {
      "cell_type": "code",
      "source": [
        "rfm.head()"
      ],
      "metadata": {
        "colab": {
          "base_uri": "https://localhost:8080/",
          "height": 238
        },
        "id": "jqyq93gF-dDi",
        "outputId": "73ca0882-871e-46de-8b8c-294c19f443d2"
      },
      "execution_count": 6,
      "outputs": [
        {
          "output_type": "execute_result",
          "data": {
            "text/plain": [
              "                                      last_order_date  order_num_total  customer_value_total\n",
              "master_id                                                                                   \n",
              "00016786-2f5a-11ea-bb80-000d3a38a36f               12           5.0000              776.0700\n",
              "00034aaa-a838-11e9-a2fc-000d3a38a36f              300           3.0000              269.4700\n",
              "000be838-85df-11ea-a90b-000d3a38a36f              215           4.0000              722.6900\n",
              "000c1fe2-a8b7-11ea-8479-000d3a38a36f               29           7.0000              874.1600\n",
              "000f5e3e-9dde-11ea-80cd-000d3a38a36f               22           7.0000             1620.3300"
            ],
            "text/html": [
              "\n",
              "  <div id=\"df-84603991-8b57-40c2-8104-6bf78a76eb57\">\n",
              "    <div class=\"colab-df-container\">\n",
              "      <div>\n",
              "<style scoped>\n",
              "    .dataframe tbody tr th:only-of-type {\n",
              "        vertical-align: middle;\n",
              "    }\n",
              "\n",
              "    .dataframe tbody tr th {\n",
              "        vertical-align: top;\n",
              "    }\n",
              "\n",
              "    .dataframe thead th {\n",
              "        text-align: right;\n",
              "    }\n",
              "</style>\n",
              "<table border=\"1\" class=\"dataframe\">\n",
              "  <thead>\n",
              "    <tr style=\"text-align: right;\">\n",
              "      <th></th>\n",
              "      <th>last_order_date</th>\n",
              "      <th>order_num_total</th>\n",
              "      <th>customer_value_total</th>\n",
              "    </tr>\n",
              "    <tr>\n",
              "      <th>master_id</th>\n",
              "      <th></th>\n",
              "      <th></th>\n",
              "      <th></th>\n",
              "    </tr>\n",
              "  </thead>\n",
              "  <tbody>\n",
              "    <tr>\n",
              "      <th>00016786-2f5a-11ea-bb80-000d3a38a36f</th>\n",
              "      <td>12</td>\n",
              "      <td>5.0000</td>\n",
              "      <td>776.0700</td>\n",
              "    </tr>\n",
              "    <tr>\n",
              "      <th>00034aaa-a838-11e9-a2fc-000d3a38a36f</th>\n",
              "      <td>300</td>\n",
              "      <td>3.0000</td>\n",
              "      <td>269.4700</td>\n",
              "    </tr>\n",
              "    <tr>\n",
              "      <th>000be838-85df-11ea-a90b-000d3a38a36f</th>\n",
              "      <td>215</td>\n",
              "      <td>4.0000</td>\n",
              "      <td>722.6900</td>\n",
              "    </tr>\n",
              "    <tr>\n",
              "      <th>000c1fe2-a8b7-11ea-8479-000d3a38a36f</th>\n",
              "      <td>29</td>\n",
              "      <td>7.0000</td>\n",
              "      <td>874.1600</td>\n",
              "    </tr>\n",
              "    <tr>\n",
              "      <th>000f5e3e-9dde-11ea-80cd-000d3a38a36f</th>\n",
              "      <td>22</td>\n",
              "      <td>7.0000</td>\n",
              "      <td>1620.3300</td>\n",
              "    </tr>\n",
              "  </tbody>\n",
              "</table>\n",
              "</div>\n",
              "      <button class=\"colab-df-convert\" onclick=\"convertToInteractive('df-84603991-8b57-40c2-8104-6bf78a76eb57')\"\n",
              "              title=\"Convert this dataframe to an interactive table.\"\n",
              "              style=\"display:none;\">\n",
              "        \n",
              "  <svg xmlns=\"http://www.w3.org/2000/svg\" height=\"24px\"viewBox=\"0 0 24 24\"\n",
              "       width=\"24px\">\n",
              "    <path d=\"M0 0h24v24H0V0z\" fill=\"none\"/>\n",
              "    <path d=\"M18.56 5.44l.94 2.06.94-2.06 2.06-.94-2.06-.94-.94-2.06-.94 2.06-2.06.94zm-11 1L8.5 8.5l.94-2.06 2.06-.94-2.06-.94L8.5 2.5l-.94 2.06-2.06.94zm10 10l.94 2.06.94-2.06 2.06-.94-2.06-.94-.94-2.06-.94 2.06-2.06.94z\"/><path d=\"M17.41 7.96l-1.37-1.37c-.4-.4-.92-.59-1.43-.59-.52 0-1.04.2-1.43.59L10.3 9.45l-7.72 7.72c-.78.78-.78 2.05 0 2.83L4 21.41c.39.39.9.59 1.41.59.51 0 1.02-.2 1.41-.59l7.78-7.78 2.81-2.81c.8-.78.8-2.07 0-2.86zM5.41 20L4 18.59l7.72-7.72 1.47 1.35L5.41 20z\"/>\n",
              "  </svg>\n",
              "      </button>\n",
              "      \n",
              "  <style>\n",
              "    .colab-df-container {\n",
              "      display:flex;\n",
              "      flex-wrap:wrap;\n",
              "      gap: 12px;\n",
              "    }\n",
              "\n",
              "    .colab-df-convert {\n",
              "      background-color: #E8F0FE;\n",
              "      border: none;\n",
              "      border-radius: 50%;\n",
              "      cursor: pointer;\n",
              "      display: none;\n",
              "      fill: #1967D2;\n",
              "      height: 32px;\n",
              "      padding: 0 0 0 0;\n",
              "      width: 32px;\n",
              "    }\n",
              "\n",
              "    .colab-df-convert:hover {\n",
              "      background-color: #E2EBFA;\n",
              "      box-shadow: 0px 1px 2px rgba(60, 64, 67, 0.3), 0px 1px 3px 1px rgba(60, 64, 67, 0.15);\n",
              "      fill: #174EA6;\n",
              "    }\n",
              "\n",
              "    [theme=dark] .colab-df-convert {\n",
              "      background-color: #3B4455;\n",
              "      fill: #D2E3FC;\n",
              "    }\n",
              "\n",
              "    [theme=dark] .colab-df-convert:hover {\n",
              "      background-color: #434B5C;\n",
              "      box-shadow: 0px 1px 3px 1px rgba(0, 0, 0, 0.15);\n",
              "      filter: drop-shadow(0px 1px 2px rgba(0, 0, 0, 0.3));\n",
              "      fill: #FFFFFF;\n",
              "    }\n",
              "  </style>\n",
              "\n",
              "      <script>\n",
              "        const buttonEl =\n",
              "          document.querySelector('#df-84603991-8b57-40c2-8104-6bf78a76eb57 button.colab-df-convert');\n",
              "        buttonEl.style.display =\n",
              "          google.colab.kernel.accessAllowed ? 'block' : 'none';\n",
              "\n",
              "        async function convertToInteractive(key) {\n",
              "          const element = document.querySelector('#df-84603991-8b57-40c2-8104-6bf78a76eb57');\n",
              "          const dataTable =\n",
              "            await google.colab.kernel.invokeFunction('convertToInteractive',\n",
              "                                                     [key], {});\n",
              "          if (!dataTable) return;\n",
              "\n",
              "          const docLinkHtml = 'Like what you see? Visit the ' +\n",
              "            '<a target=\"_blank\" href=https://colab.research.google.com/notebooks/data_table.ipynb>data table notebook</a>'\n",
              "            + ' to learn more about interactive tables.';\n",
              "          element.innerHTML = '';\n",
              "          dataTable['output_type'] = 'display_data';\n",
              "          await google.colab.output.renderOutput(dataTable, element);\n",
              "          const docLink = document.createElement('div');\n",
              "          docLink.innerHTML = docLinkHtml;\n",
              "          element.appendChild(docLink);\n",
              "        }\n",
              "      </script>\n",
              "    </div>\n",
              "  </div>\n",
              "  "
            ]
          },
          "metadata": {},
          "execution_count": 6
        }
      ]
    },
    {
      "cell_type": "code",
      "source": [
        "rfm.columns = [\"recency\",\"frequency\",\"monetary\"]"
      ],
      "metadata": {
        "id": "uVjuvSqY-8dF"
      },
      "execution_count": 7,
      "outputs": []
    },
    {
      "cell_type": "code",
      "source": [
        "# Adım6:  Enfazlakazancıgetirenilk 10 müşteriyisıralayınız.\n",
        "rfm[\"monetary\"].sort_values(ascending=False).head(10)"
      ],
      "metadata": {
        "colab": {
          "base_uri": "https://localhost:8080/"
        },
        "id": "xptNibn0AQe4",
        "outputId": "3cd55a8b-0bea-4677-b438-3792fbfe9080"
      },
      "execution_count": 11,
      "outputs": [
        {
          "output_type": "execute_result",
          "data": {
            "text/plain": [
              "master_id\n",
              "5d1c466a-9cfd-11e9-9897-000d3a38a36f   45905.1000\n",
              "d5ef8058-a5c6-11e9-a2fc-000d3a38a36f   36818.2900\n",
              "73fd19aa-9e37-11e9-9897-000d3a38a36f   33918.1000\n",
              "7137a5c0-7aad-11ea-8f20-000d3a38a36f   31227.4100\n",
              "47a642fe-975b-11eb-8c2a-000d3a38a36f   20706.3400\n",
              "a4d534a2-5b1b-11eb-8dbd-000d3a38a36f   18443.5700\n",
              "d696c654-2633-11ea-8e1c-000d3a38a36f   16918.5700\n",
              "fef57ffa-aae6-11e9-a2fc-000d3a38a36f   12726.1000\n",
              "cba59206-9dd1-11e9-9897-000d3a38a36f   12282.2400\n",
              "fc0ce7a4-9d87-11e9-9897-000d3a38a36f   12103.1500\n",
              "Name: monetary, dtype: float64"
            ]
          },
          "metadata": {},
          "execution_count": 11
        }
      ]
    },
    {
      "cell_type": "code",
      "source": [
        "#Adım7:  Enfazlasiparişiverenilk 10 müşteriyisıralayınız.\n",
        "rfm[\"frequency\"].sort_values(ascending=False).head(10)"
      ],
      "metadata": {
        "colab": {
          "base_uri": "https://localhost:8080/"
        },
        "id": "Hclt8qoSARgx",
        "outputId": "d917d2d4-6dda-43a0-ba1d-29efaed14e06"
      },
      "execution_count": 12,
      "outputs": [
        {
          "output_type": "execute_result",
          "data": {
            "text/plain": [
              "master_id\n",
              "5d1c466a-9cfd-11e9-9897-000d3a38a36f   202.0000\n",
              "cba59206-9dd1-11e9-9897-000d3a38a36f   131.0000\n",
              "a57f4302-b1a8-11e9-89fa-000d3a38a36f   111.0000\n",
              "fdbe8304-a7ab-11e9-a2fc-000d3a38a36f    88.0000\n",
              "329968c6-a0e2-11e9-a2fc-000d3a38a36f    83.0000\n",
              "73fd19aa-9e37-11e9-9897-000d3a38a36f    82.0000\n",
              "44d032ee-a0d4-11e9-a2fc-000d3a38a36f    77.0000\n",
              "b27e241a-a901-11e9-a2fc-000d3a38a36f    75.0000\n",
              "d696c654-2633-11ea-8e1c-000d3a38a36f    70.0000\n",
              "a4d534a2-5b1b-11eb-8dbd-000d3a38a36f    70.0000\n",
              "Name: frequency, dtype: float64"
            ]
          },
          "metadata": {},
          "execution_count": 12
        }
      ]
    },
    {
      "cell_type": "code",
      "source": [
        "rfm[\"recency_score\"] = pd.qcut(rfm[\"recency\"], 5, labels = [5, 4, 3, 2, 1])\n",
        "rfm[\"monetary_score\"] = pd.qcut(rfm[\"monetary\"], 5, labels = [1, 2, 3, 4, 5])\n",
        "rfm[\"frequency_score\"] = pd.qcut(rfm[\"frequency\"].rank(method = \"first\"), 5, labels = [1, 2, 3, 4, 5])"
      ],
      "metadata": {
        "id": "0j9r-jAXBJDp"
      },
      "execution_count": 16,
      "outputs": []
    },
    {
      "cell_type": "code",
      "source": [
        "rfm[\"RF_SCORE\"] = rfm[\"recency_score\"].astype(str) + rfm[\"frequency_score\"].astype(str)"
      ],
      "metadata": {
        "id": "LYFIfr7sCWkC"
      },
      "execution_count": 18,
      "outputs": []
    },
    {
      "cell_type": "code",
      "source": [
        "seg_map = {\n",
        "    r'[1-2][1-2]': 'Hibernating',\n",
        "    r'[1-2][3-4]': 'At Risk',\n",
        "    r'[1-2]5': 'Can\\'t Lose',\n",
        "    r'3[1-2]': 'About to Sleep',\n",
        "    r'33': 'Need Attention',\n",
        "    r'[3-4][4-5]': 'Loyal Customers',\n",
        "    r'41': 'Promising',\n",
        "    r'51': 'New Customers',\n",
        "    r'[4-5][2-3]': 'Potential Loyalists',\n",
        "    r'5[4-5]': 'Champions'\n",
        "}"
      ],
      "metadata": {
        "id": "qz1j9VwmDL8a"
      },
      "execution_count": 19,
      "outputs": []
    },
    {
      "cell_type": "code",
      "source": [
        "rfm[\"segment\"] = rfm[\"RF_SCORE\"].replace(seg_map, regex = True)"
      ],
      "metadata": {
        "id": "1n8B_4dHELHO"
      },
      "execution_count": 20,
      "outputs": []
    },
    {
      "cell_type": "code",
      "source": [
        "rfm[[\"segment\",\"recency\",\"frequency\",\"monetary\"]].groupby(\"segment\").agg([\"mean\",\"count\"])"
      ],
      "metadata": {
        "colab": {
          "base_uri": "https://localhost:8080/",
          "height": 426
        },
        "id": "iNy7LXOrEpKS",
        "outputId": "d93ff097-d2cd-4063-cda3-f4bf0e2d3b2d"
      },
      "execution_count": 21,
      "outputs": [
        {
          "output_type": "execute_result",
          "data": {
            "text/plain": [
              "                     recency       frequency        monetary      \n",
              "                        mean count      mean count      mean count\n",
              "segment                                                           \n",
              "About to Sleep      116.0316  1643    2.4066  1643  361.6494  1643\n",
              "At Risk             244.3290  3152    4.4702  3152  648.3250  3152\n",
              "Can't Lose          237.1591  1194   10.7169  1194 1481.6524  1194\n",
              "Champions            19.1422  1920    8.9651  1920 1410.7089  1920\n",
              "Hibernating         249.4263  3589    2.3915  3589  362.5833  3589\n",
              "Loyal Customers      84.5579  3375    8.3564  3375 1216.2572  3375\n",
              "Need Attention      115.0372   806    3.7395   806  553.4366   806\n",
              "New Customers        19.9762   673    2.0000   673  344.0495   673\n",
              "Potential Loyalists  38.8697  2925    3.3108  2925  533.7413  2925\n",
              "Promising            60.6946   668    2.0000   668  334.1533   668"
            ],
            "text/html": [
              "\n",
              "  <div id=\"df-4bdd2e02-6dc4-4816-b066-d60afdb83490\">\n",
              "    <div class=\"colab-df-container\">\n",
              "      <div>\n",
              "<style scoped>\n",
              "    .dataframe tbody tr th:only-of-type {\n",
              "        vertical-align: middle;\n",
              "    }\n",
              "\n",
              "    .dataframe tbody tr th {\n",
              "        vertical-align: top;\n",
              "    }\n",
              "\n",
              "    .dataframe thead tr th {\n",
              "        text-align: left;\n",
              "    }\n",
              "\n",
              "    .dataframe thead tr:last-of-type th {\n",
              "        text-align: right;\n",
              "    }\n",
              "</style>\n",
              "<table border=\"1\" class=\"dataframe\">\n",
              "  <thead>\n",
              "    <tr>\n",
              "      <th></th>\n",
              "      <th colspan=\"2\" halign=\"left\">recency</th>\n",
              "      <th colspan=\"2\" halign=\"left\">frequency</th>\n",
              "      <th colspan=\"2\" halign=\"left\">monetary</th>\n",
              "    </tr>\n",
              "    <tr>\n",
              "      <th></th>\n",
              "      <th>mean</th>\n",
              "      <th>count</th>\n",
              "      <th>mean</th>\n",
              "      <th>count</th>\n",
              "      <th>mean</th>\n",
              "      <th>count</th>\n",
              "    </tr>\n",
              "    <tr>\n",
              "      <th>segment</th>\n",
              "      <th></th>\n",
              "      <th></th>\n",
              "      <th></th>\n",
              "      <th></th>\n",
              "      <th></th>\n",
              "      <th></th>\n",
              "    </tr>\n",
              "  </thead>\n",
              "  <tbody>\n",
              "    <tr>\n",
              "      <th>About to Sleep</th>\n",
              "      <td>116.0316</td>\n",
              "      <td>1643</td>\n",
              "      <td>2.4066</td>\n",
              "      <td>1643</td>\n",
              "      <td>361.6494</td>\n",
              "      <td>1643</td>\n",
              "    </tr>\n",
              "    <tr>\n",
              "      <th>At Risk</th>\n",
              "      <td>244.3290</td>\n",
              "      <td>3152</td>\n",
              "      <td>4.4702</td>\n",
              "      <td>3152</td>\n",
              "      <td>648.3250</td>\n",
              "      <td>3152</td>\n",
              "    </tr>\n",
              "    <tr>\n",
              "      <th>Can't Lose</th>\n",
              "      <td>237.1591</td>\n",
              "      <td>1194</td>\n",
              "      <td>10.7169</td>\n",
              "      <td>1194</td>\n",
              "      <td>1481.6524</td>\n",
              "      <td>1194</td>\n",
              "    </tr>\n",
              "    <tr>\n",
              "      <th>Champions</th>\n",
              "      <td>19.1422</td>\n",
              "      <td>1920</td>\n",
              "      <td>8.9651</td>\n",
              "      <td>1920</td>\n",
              "      <td>1410.7089</td>\n",
              "      <td>1920</td>\n",
              "    </tr>\n",
              "    <tr>\n",
              "      <th>Hibernating</th>\n",
              "      <td>249.4263</td>\n",
              "      <td>3589</td>\n",
              "      <td>2.3915</td>\n",
              "      <td>3589</td>\n",
              "      <td>362.5833</td>\n",
              "      <td>3589</td>\n",
              "    </tr>\n",
              "    <tr>\n",
              "      <th>Loyal Customers</th>\n",
              "      <td>84.5579</td>\n",
              "      <td>3375</td>\n",
              "      <td>8.3564</td>\n",
              "      <td>3375</td>\n",
              "      <td>1216.2572</td>\n",
              "      <td>3375</td>\n",
              "    </tr>\n",
              "    <tr>\n",
              "      <th>Need Attention</th>\n",
              "      <td>115.0372</td>\n",
              "      <td>806</td>\n",
              "      <td>3.7395</td>\n",
              "      <td>806</td>\n",
              "      <td>553.4366</td>\n",
              "      <td>806</td>\n",
              "    </tr>\n",
              "    <tr>\n",
              "      <th>New Customers</th>\n",
              "      <td>19.9762</td>\n",
              "      <td>673</td>\n",
              "      <td>2.0000</td>\n",
              "      <td>673</td>\n",
              "      <td>344.0495</td>\n",
              "      <td>673</td>\n",
              "    </tr>\n",
              "    <tr>\n",
              "      <th>Potential Loyalists</th>\n",
              "      <td>38.8697</td>\n",
              "      <td>2925</td>\n",
              "      <td>3.3108</td>\n",
              "      <td>2925</td>\n",
              "      <td>533.7413</td>\n",
              "      <td>2925</td>\n",
              "    </tr>\n",
              "    <tr>\n",
              "      <th>Promising</th>\n",
              "      <td>60.6946</td>\n",
              "      <td>668</td>\n",
              "      <td>2.0000</td>\n",
              "      <td>668</td>\n",
              "      <td>334.1533</td>\n",
              "      <td>668</td>\n",
              "    </tr>\n",
              "  </tbody>\n",
              "</table>\n",
              "</div>\n",
              "      <button class=\"colab-df-convert\" onclick=\"convertToInteractive('df-4bdd2e02-6dc4-4816-b066-d60afdb83490')\"\n",
              "              title=\"Convert this dataframe to an interactive table.\"\n",
              "              style=\"display:none;\">\n",
              "        \n",
              "  <svg xmlns=\"http://www.w3.org/2000/svg\" height=\"24px\"viewBox=\"0 0 24 24\"\n",
              "       width=\"24px\">\n",
              "    <path d=\"M0 0h24v24H0V0z\" fill=\"none\"/>\n",
              "    <path d=\"M18.56 5.44l.94 2.06.94-2.06 2.06-.94-2.06-.94-.94-2.06-.94 2.06-2.06.94zm-11 1L8.5 8.5l.94-2.06 2.06-.94-2.06-.94L8.5 2.5l-.94 2.06-2.06.94zm10 10l.94 2.06.94-2.06 2.06-.94-2.06-.94-.94-2.06-.94 2.06-2.06.94z\"/><path d=\"M17.41 7.96l-1.37-1.37c-.4-.4-.92-.59-1.43-.59-.52 0-1.04.2-1.43.59L10.3 9.45l-7.72 7.72c-.78.78-.78 2.05 0 2.83L4 21.41c.39.39.9.59 1.41.59.51 0 1.02-.2 1.41-.59l7.78-7.78 2.81-2.81c.8-.78.8-2.07 0-2.86zM5.41 20L4 18.59l7.72-7.72 1.47 1.35L5.41 20z\"/>\n",
              "  </svg>\n",
              "      </button>\n",
              "      \n",
              "  <style>\n",
              "    .colab-df-container {\n",
              "      display:flex;\n",
              "      flex-wrap:wrap;\n",
              "      gap: 12px;\n",
              "    }\n",
              "\n",
              "    .colab-df-convert {\n",
              "      background-color: #E8F0FE;\n",
              "      border: none;\n",
              "      border-radius: 50%;\n",
              "      cursor: pointer;\n",
              "      display: none;\n",
              "      fill: #1967D2;\n",
              "      height: 32px;\n",
              "      padding: 0 0 0 0;\n",
              "      width: 32px;\n",
              "    }\n",
              "\n",
              "    .colab-df-convert:hover {\n",
              "      background-color: #E2EBFA;\n",
              "      box-shadow: 0px 1px 2px rgba(60, 64, 67, 0.3), 0px 1px 3px 1px rgba(60, 64, 67, 0.15);\n",
              "      fill: #174EA6;\n",
              "    }\n",
              "\n",
              "    [theme=dark] .colab-df-convert {\n",
              "      background-color: #3B4455;\n",
              "      fill: #D2E3FC;\n",
              "    }\n",
              "\n",
              "    [theme=dark] .colab-df-convert:hover {\n",
              "      background-color: #434B5C;\n",
              "      box-shadow: 0px 1px 3px 1px rgba(0, 0, 0, 0.15);\n",
              "      filter: drop-shadow(0px 1px 2px rgba(0, 0, 0, 0.3));\n",
              "      fill: #FFFFFF;\n",
              "    }\n",
              "  </style>\n",
              "\n",
              "      <script>\n",
              "        const buttonEl =\n",
              "          document.querySelector('#df-4bdd2e02-6dc4-4816-b066-d60afdb83490 button.colab-df-convert');\n",
              "        buttonEl.style.display =\n",
              "          google.colab.kernel.accessAllowed ? 'block' : 'none';\n",
              "\n",
              "        async function convertToInteractive(key) {\n",
              "          const element = document.querySelector('#df-4bdd2e02-6dc4-4816-b066-d60afdb83490');\n",
              "          const dataTable =\n",
              "            await google.colab.kernel.invokeFunction('convertToInteractive',\n",
              "                                                     [key], {});\n",
              "          if (!dataTable) return;\n",
              "\n",
              "          const docLinkHtml = 'Like what you see? Visit the ' +\n",
              "            '<a target=\"_blank\" href=https://colab.research.google.com/notebooks/data_table.ipynb>data table notebook</a>'\n",
              "            + ' to learn more about interactive tables.';\n",
              "          element.innerHTML = '';\n",
              "          dataTable['output_type'] = 'display_data';\n",
              "          await google.colab.output.renderOutput(dataTable, element);\n",
              "          const docLink = document.createElement('div');\n",
              "          docLink.innerHTML = docLinkHtml;\n",
              "          element.appendChild(docLink);\n",
              "        }\n",
              "      </script>\n",
              "    </div>\n",
              "  </div>\n",
              "  "
            ]
          },
          "metadata": {},
          "execution_count": 21
        }
      ]
    },
    {
      "cell_type": "code",
      "source": [
        "df[\"interested_in_categories_12\"].str.contains(\"KADIN\")"
      ],
      "metadata": {
        "colab": {
          "base_uri": "https://localhost:8080/"
        },
        "id": "lual0TsPGYVl",
        "outputId": "ad3d7b9f-713c-4747-fd9d-e2b6f1a06f7e"
      },
      "execution_count": 26,
      "outputs": [
        {
          "output_type": "execute_result",
          "data": {
            "text/plain": [
              "0         True\n",
              "1         True\n",
              "2         True\n",
              "3        False\n",
              "4        False\n",
              "         ...  \n",
              "19940    False\n",
              "19941    False\n",
              "19942    False\n",
              "19943    False\n",
              "19944     True\n",
              "Name: interested_in_categories_12, Length: 19945, dtype: bool"
            ]
          },
          "metadata": {},
          "execution_count": 26
        }
      ]
    },
    {
      "cell_type": "code",
      "source": [
        "rfm[(rfm[\"segment\"]==\"Champions\") & (rfm[\"segment\"]==\"Loyal Customers\")].head()\n"
      ],
      "metadata": {
        "colab": {
          "base_uri": "https://localhost:8080/",
          "height": 81
        },
        "id": "3v6nyahSE4pn",
        "outputId": "78da71fb-1b02-411b-c996-47330183d444"
      },
      "execution_count": 28,
      "outputs": [
        {
          "output_type": "execute_result",
          "data": {
            "text/plain": [
              "Empty DataFrame\n",
              "Columns: [recency, frequency, monetary, recency_score, monetary_score, frequency_score, RFM_SCORE, RF_SCORE, segment]\n",
              "Index: []"
            ],
            "text/html": [
              "\n",
              "  <div id=\"df-1f393726-b636-40bd-9f26-7d0706b99eda\">\n",
              "    <div class=\"colab-df-container\">\n",
              "      <div>\n",
              "<style scoped>\n",
              "    .dataframe tbody tr th:only-of-type {\n",
              "        vertical-align: middle;\n",
              "    }\n",
              "\n",
              "    .dataframe tbody tr th {\n",
              "        vertical-align: top;\n",
              "    }\n",
              "\n",
              "    .dataframe thead th {\n",
              "        text-align: right;\n",
              "    }\n",
              "</style>\n",
              "<table border=\"1\" class=\"dataframe\">\n",
              "  <thead>\n",
              "    <tr style=\"text-align: right;\">\n",
              "      <th></th>\n",
              "      <th>recency</th>\n",
              "      <th>frequency</th>\n",
              "      <th>monetary</th>\n",
              "      <th>recency_score</th>\n",
              "      <th>monetary_score</th>\n",
              "      <th>frequency_score</th>\n",
              "      <th>RFM_SCORE</th>\n",
              "      <th>RF_SCORE</th>\n",
              "      <th>segment</th>\n",
              "    </tr>\n",
              "    <tr>\n",
              "      <th>master_id</th>\n",
              "      <th></th>\n",
              "      <th></th>\n",
              "      <th></th>\n",
              "      <th></th>\n",
              "      <th></th>\n",
              "      <th></th>\n",
              "      <th></th>\n",
              "      <th></th>\n",
              "      <th></th>\n",
              "    </tr>\n",
              "  </thead>\n",
              "  <tbody>\n",
              "  </tbody>\n",
              "</table>\n",
              "</div>\n",
              "      <button class=\"colab-df-convert\" onclick=\"convertToInteractive('df-1f393726-b636-40bd-9f26-7d0706b99eda')\"\n",
              "              title=\"Convert this dataframe to an interactive table.\"\n",
              "              style=\"display:none;\">\n",
              "        \n",
              "  <svg xmlns=\"http://www.w3.org/2000/svg\" height=\"24px\"viewBox=\"0 0 24 24\"\n",
              "       width=\"24px\">\n",
              "    <path d=\"M0 0h24v24H0V0z\" fill=\"none\"/>\n",
              "    <path d=\"M18.56 5.44l.94 2.06.94-2.06 2.06-.94-2.06-.94-.94-2.06-.94 2.06-2.06.94zm-11 1L8.5 8.5l.94-2.06 2.06-.94-2.06-.94L8.5 2.5l-.94 2.06-2.06.94zm10 10l.94 2.06.94-2.06 2.06-.94-2.06-.94-.94-2.06-.94 2.06-2.06.94z\"/><path d=\"M17.41 7.96l-1.37-1.37c-.4-.4-.92-.59-1.43-.59-.52 0-1.04.2-1.43.59L10.3 9.45l-7.72 7.72c-.78.78-.78 2.05 0 2.83L4 21.41c.39.39.9.59 1.41.59.51 0 1.02-.2 1.41-.59l7.78-7.78 2.81-2.81c.8-.78.8-2.07 0-2.86zM5.41 20L4 18.59l7.72-7.72 1.47 1.35L5.41 20z\"/>\n",
              "  </svg>\n",
              "      </button>\n",
              "      \n",
              "  <style>\n",
              "    .colab-df-container {\n",
              "      display:flex;\n",
              "      flex-wrap:wrap;\n",
              "      gap: 12px;\n",
              "    }\n",
              "\n",
              "    .colab-df-convert {\n",
              "      background-color: #E8F0FE;\n",
              "      border: none;\n",
              "      border-radius: 50%;\n",
              "      cursor: pointer;\n",
              "      display: none;\n",
              "      fill: #1967D2;\n",
              "      height: 32px;\n",
              "      padding: 0 0 0 0;\n",
              "      width: 32px;\n",
              "    }\n",
              "\n",
              "    .colab-df-convert:hover {\n",
              "      background-color: #E2EBFA;\n",
              "      box-shadow: 0px 1px 2px rgba(60, 64, 67, 0.3), 0px 1px 3px 1px rgba(60, 64, 67, 0.15);\n",
              "      fill: #174EA6;\n",
              "    }\n",
              "\n",
              "    [theme=dark] .colab-df-convert {\n",
              "      background-color: #3B4455;\n",
              "      fill: #D2E3FC;\n",
              "    }\n",
              "\n",
              "    [theme=dark] .colab-df-convert:hover {\n",
              "      background-color: #434B5C;\n",
              "      box-shadow: 0px 1px 3px 1px rgba(0, 0, 0, 0.15);\n",
              "      filter: drop-shadow(0px 1px 2px rgba(0, 0, 0, 0.3));\n",
              "      fill: #FFFFFF;\n",
              "    }\n",
              "  </style>\n",
              "\n",
              "      <script>\n",
              "        const buttonEl =\n",
              "          document.querySelector('#df-1f393726-b636-40bd-9f26-7d0706b99eda button.colab-df-convert');\n",
              "        buttonEl.style.display =\n",
              "          google.colab.kernel.accessAllowed ? 'block' : 'none';\n",
              "\n",
              "        async function convertToInteractive(key) {\n",
              "          const element = document.querySelector('#df-1f393726-b636-40bd-9f26-7d0706b99eda');\n",
              "          const dataTable =\n",
              "            await google.colab.kernel.invokeFunction('convertToInteractive',\n",
              "                                                     [key], {});\n",
              "          if (!dataTable) return;\n",
              "\n",
              "          const docLinkHtml = 'Like what you see? Visit the ' +\n",
              "            '<a target=\"_blank\" href=https://colab.research.google.com/notebooks/data_table.ipynb>data table notebook</a>'\n",
              "            + ' to learn more about interactive tables.';\n",
              "          element.innerHTML = '';\n",
              "          dataTable['output_type'] = 'display_data';\n",
              "          await google.colab.output.renderOutput(dataTable, element);\n",
              "          const docLink = document.createElement('div');\n",
              "          docLink.innerHTML = docLinkHtml;\n",
              "          element.appendChild(docLink);\n",
              "        }\n",
              "      </script>\n",
              "    </div>\n",
              "  </div>\n",
              "  "
            ]
          },
          "metadata": {},
          "execution_count": 28
        }
      ]
    },
    {
      "cell_type": "code",
      "source": [],
      "metadata": {
        "id": "BsmaVZ1OFbP9"
      },
      "execution_count": null,
      "outputs": []
    }
  ]
}